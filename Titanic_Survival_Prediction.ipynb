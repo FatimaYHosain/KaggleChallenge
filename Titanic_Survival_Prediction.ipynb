{
  "nbformat": 4,
  "nbformat_minor": 0,
  "metadata": {
    "colab": {
      "provenance": []
    },
    "kernelspec": {
      "name": "python3",
      "display_name": "Python 3"
    },
    "language_info": {
      "name": "python"
    }
  },
  "cells": [
    {
      "cell_type": "markdown",
      "source": [
        "# **Problem Statement**\n",
        "#### The sinking of the RMS Titanic in April 1912 is one of the most tragic maritime disasters in history, resulting in the loss of over 1,500 lives. While the ship was famously deemed “unsinkable,” insufficient lifeboats and chaotic evacuation led to many fatalities. Historical records suggest that certain groups of passengers—based on factors such as gender, age, socio-economic status, and family relationships—had higher chances of survival.\n",
        "\n",
        "#### This task focuses on leveraging passenger data from the Titanic to predict survival outcomes. Using features such as passenger demographics, ticket class, fare paid, and family aboard, we aim to build a machine learning model that predicts whether a passenger survived or not. By analyzing patterns in the data, the model will help identify which factors were most influential in survival."
      ],
      "metadata": {
        "id": "o00JCZYLhjer"
      }
    },
    {
      "cell_type": "markdown",
      "source": [
        "# **Goal**\n",
        "#### The primary goal of this project is to develop an accurate predictive model that classifies Titanic passengers into survivors and non-survivors based on their characteristics. The model will be trained on a labeled dataset where survival outcomes are known and then used to predict survival on a separate test set without labels.\n",
        "\n",
        "#### Beyond prediction accuracy, the project seeks to gain insights into the relative importance of different features influencing survival chances. Evaluation metrics such as accuracy, F1-score, and ROC-AUC will be used to assess model performance comprehensively.\n",
        "\n",
        "#### Ultimately, this analysis not only serves as a classic machine learning challenge but also offers historical insight into the factors affecting survival during the Titanic disaster."
      ],
      "metadata": {
        "id": "VZTmQAVuiFzU"
      }
    },
    {
      "cell_type": "code",
      "source": [
        "!pip install catboost"
      ],
      "metadata": {
        "colab": {
          "base_uri": "https://localhost:8080/"
        },
        "id": "_R05XsBhcIh5",
        "outputId": "0622e4b8-67d5-4260-ed2f-50f6b7a567c6"
      },
      "execution_count": 91,
      "outputs": [
        {
          "output_type": "stream",
          "name": "stdout",
          "text": [
            "Requirement already satisfied: catboost in /usr/local/lib/python3.11/dist-packages (1.2.8)\n",
            "Requirement already satisfied: graphviz in /usr/local/lib/python3.11/dist-packages (from catboost) (0.20.3)\n",
            "Requirement already satisfied: matplotlib in /usr/local/lib/python3.11/dist-packages (from catboost) (3.10.0)\n",
            "Requirement already satisfied: numpy<3.0,>=1.16.0 in /usr/local/lib/python3.11/dist-packages (from catboost) (2.0.2)\n",
            "Requirement already satisfied: pandas>=0.24 in /usr/local/lib/python3.11/dist-packages (from catboost) (2.2.2)\n",
            "Requirement already satisfied: scipy in /usr/local/lib/python3.11/dist-packages (from catboost) (1.15.3)\n",
            "Requirement already satisfied: plotly in /usr/local/lib/python3.11/dist-packages (from catboost) (5.24.1)\n",
            "Requirement already satisfied: six in /usr/local/lib/python3.11/dist-packages (from catboost) (1.17.0)\n",
            "Requirement already satisfied: python-dateutil>=2.8.2 in /usr/local/lib/python3.11/dist-packages (from pandas>=0.24->catboost) (2.9.0.post0)\n",
            "Requirement already satisfied: pytz>=2020.1 in /usr/local/lib/python3.11/dist-packages (from pandas>=0.24->catboost) (2025.2)\n",
            "Requirement already satisfied: tzdata>=2022.7 in /usr/local/lib/python3.11/dist-packages (from pandas>=0.24->catboost) (2025.2)\n",
            "Requirement already satisfied: contourpy>=1.0.1 in /usr/local/lib/python3.11/dist-packages (from matplotlib->catboost) (1.3.2)\n",
            "Requirement already satisfied: cycler>=0.10 in /usr/local/lib/python3.11/dist-packages (from matplotlib->catboost) (0.12.1)\n",
            "Requirement already satisfied: fonttools>=4.22.0 in /usr/local/lib/python3.11/dist-packages (from matplotlib->catboost) (4.58.1)\n",
            "Requirement already satisfied: kiwisolver>=1.3.1 in /usr/local/lib/python3.11/dist-packages (from matplotlib->catboost) (1.4.8)\n",
            "Requirement already satisfied: packaging>=20.0 in /usr/local/lib/python3.11/dist-packages (from matplotlib->catboost) (24.2)\n",
            "Requirement already satisfied: pillow>=8 in /usr/local/lib/python3.11/dist-packages (from matplotlib->catboost) (11.2.1)\n",
            "Requirement already satisfied: pyparsing>=2.3.1 in /usr/local/lib/python3.11/dist-packages (from matplotlib->catboost) (3.2.3)\n",
            "Requirement already satisfied: tenacity>=6.2.0 in /usr/local/lib/python3.11/dist-packages (from plotly->catboost) (9.1.2)\n"
          ]
        }
      ]
    },
    {
      "cell_type": "markdown",
      "source": [
        "importing necessary Python libraries"
      ],
      "metadata": {
        "id": "hxKHpLCsiosV"
      }
    },
    {
      "cell_type": "code",
      "execution_count": 92,
      "metadata": {
        "id": "rMXgV9jTO-LY"
      },
      "outputs": [],
      "source": [
        "import pandas as pd\n",
        "import numpy as np\n",
        "import matplotlib.pyplot as plt\n",
        "import seaborn as sns\n",
        "\n",
        "from sklearn.model_selection import train_test_split\n",
        "from sklearn.preprocessing import LabelEncoder\n",
        "from sklearn.ensemble import RandomForestClassifier\n",
        "from sklearn.metrics import accuracy_score\n"
      ]
    },
    {
      "cell_type": "code",
      "source": [
        "from sklearn.ensemble import RandomForestClassifier, GradientBoostingClassifier\n",
        "from sklearn.linear_model import LogisticRegression\n",
        "from sklearn.svm import SVC\n",
        "from sklearn.metrics import accuracy_score, f1_score, mean_squared_error, classification_report, ConfusionMatrixDisplay\n",
        "from sklearn.model_selection import train_test_split\n",
        "import matplotlib.pyplot as plt\n",
        "import seaborn as sns\n",
        "import numpy as np\n"
      ],
      "metadata": {
        "id": "ubzxoP78ZdmW"
      },
      "execution_count": 127,
      "outputs": []
    },
    {
      "cell_type": "markdown",
      "source": [
        "loading the Titanic datasets into memory"
      ],
      "metadata": {
        "id": "5plfzFtziz8k"
      }
    },
    {
      "cell_type": "code",
      "source": [
        "train_df = pd.read_csv('train.csv')\n",
        "test_df = pd.read_csv('test.csv')\n"
      ],
      "metadata": {
        "id": "q3ick80dQcut"
      },
      "execution_count": 93,
      "outputs": []
    },
    {
      "cell_type": "markdown",
      "source": [
        "prints the number of rows and columns in train and test datasets"
      ],
      "metadata": {
        "id": "teXS9sNWi_hQ"
      }
    },
    {
      "cell_type": "code",
      "source": [
        "print(\"Train shape:\", train_df.shape)\n",
        "print(\"Test shape:\", test_df.shape)\n"
      ],
      "metadata": {
        "colab": {
          "base_uri": "https://localhost:8080/"
        },
        "id": "CovHKVoJUSRx",
        "outputId": "e9a715af-1f11-4f76-dd0c-a920ba0d2cba"
      },
      "execution_count": 94,
      "outputs": [
        {
          "output_type": "stream",
          "name": "stdout",
          "text": [
            "Train shape: (891, 12)\n",
            "Test shape: (418, 11)\n"
          ]
        }
      ]
    },
    {
      "cell_type": "code",
      "source": [
        "train_df.head(10)"
      ],
      "metadata": {
        "colab": {
          "base_uri": "https://localhost:8080/",
          "height": 363
        },
        "id": "PbK2o5alUZKf",
        "outputId": "46f5546b-e6ab-45fc-f58a-4ed48b45ac9b"
      },
      "execution_count": 95,
      "outputs": [
        {
          "output_type": "execute_result",
          "data": {
            "text/plain": [
              "   PassengerId  Survived  Pclass  \\\n",
              "0            1         0       3   \n",
              "1            2         1       1   \n",
              "2            3         1       3   \n",
              "3            4         1       1   \n",
              "4            5         0       3   \n",
              "5            6         0       3   \n",
              "6            7         0       1   \n",
              "7            8         0       3   \n",
              "8            9         1       3   \n",
              "9           10         1       2   \n",
              "\n",
              "                                                Name     Sex   Age  SibSp  \\\n",
              "0                            Braund, Mr. Owen Harris    male  22.0      1   \n",
              "1  Cumings, Mrs. John Bradley (Florence Briggs Th...  female  38.0      1   \n",
              "2                             Heikkinen, Miss. Laina  female  26.0      0   \n",
              "3       Futrelle, Mrs. Jacques Heath (Lily May Peel)  female  35.0      1   \n",
              "4                           Allen, Mr. William Henry    male  35.0      0   \n",
              "5                                   Moran, Mr. James    male   NaN      0   \n",
              "6                            McCarthy, Mr. Timothy J    male  54.0      0   \n",
              "7                     Palsson, Master. Gosta Leonard    male   2.0      3   \n",
              "8  Johnson, Mrs. Oscar W (Elisabeth Vilhelmina Berg)  female  27.0      0   \n",
              "9                Nasser, Mrs. Nicholas (Adele Achem)  female  14.0      1   \n",
              "\n",
              "   Parch            Ticket     Fare Cabin Embarked  \n",
              "0      0         A/5 21171   7.2500   NaN        S  \n",
              "1      0          PC 17599  71.2833   C85        C  \n",
              "2      0  STON/O2. 3101282   7.9250   NaN        S  \n",
              "3      0            113803  53.1000  C123        S  \n",
              "4      0            373450   8.0500   NaN        S  \n",
              "5      0            330877   8.4583   NaN        Q  \n",
              "6      0             17463  51.8625   E46        S  \n",
              "7      1            349909  21.0750   NaN        S  \n",
              "8      2            347742  11.1333   NaN        S  \n",
              "9      0            237736  30.0708   NaN        C  "
            ],
            "text/html": [
              "\n",
              "  <div id=\"df-b9349b9d-3ac7-4f42-b419-161c74b2d253\" class=\"colab-df-container\">\n",
              "    <div>\n",
              "<style scoped>\n",
              "    .dataframe tbody tr th:only-of-type {\n",
              "        vertical-align: middle;\n",
              "    }\n",
              "\n",
              "    .dataframe tbody tr th {\n",
              "        vertical-align: top;\n",
              "    }\n",
              "\n",
              "    .dataframe thead th {\n",
              "        text-align: right;\n",
              "    }\n",
              "</style>\n",
              "<table border=\"1\" class=\"dataframe\">\n",
              "  <thead>\n",
              "    <tr style=\"text-align: right;\">\n",
              "      <th></th>\n",
              "      <th>PassengerId</th>\n",
              "      <th>Survived</th>\n",
              "      <th>Pclass</th>\n",
              "      <th>Name</th>\n",
              "      <th>Sex</th>\n",
              "      <th>Age</th>\n",
              "      <th>SibSp</th>\n",
              "      <th>Parch</th>\n",
              "      <th>Ticket</th>\n",
              "      <th>Fare</th>\n",
              "      <th>Cabin</th>\n",
              "      <th>Embarked</th>\n",
              "    </tr>\n",
              "  </thead>\n",
              "  <tbody>\n",
              "    <tr>\n",
              "      <th>0</th>\n",
              "      <td>1</td>\n",
              "      <td>0</td>\n",
              "      <td>3</td>\n",
              "      <td>Braund, Mr. Owen Harris</td>\n",
              "      <td>male</td>\n",
              "      <td>22.0</td>\n",
              "      <td>1</td>\n",
              "      <td>0</td>\n",
              "      <td>A/5 21171</td>\n",
              "      <td>7.2500</td>\n",
              "      <td>NaN</td>\n",
              "      <td>S</td>\n",
              "    </tr>\n",
              "    <tr>\n",
              "      <th>1</th>\n",
              "      <td>2</td>\n",
              "      <td>1</td>\n",
              "      <td>1</td>\n",
              "      <td>Cumings, Mrs. John Bradley (Florence Briggs Th...</td>\n",
              "      <td>female</td>\n",
              "      <td>38.0</td>\n",
              "      <td>1</td>\n",
              "      <td>0</td>\n",
              "      <td>PC 17599</td>\n",
              "      <td>71.2833</td>\n",
              "      <td>C85</td>\n",
              "      <td>C</td>\n",
              "    </tr>\n",
              "    <tr>\n",
              "      <th>2</th>\n",
              "      <td>3</td>\n",
              "      <td>1</td>\n",
              "      <td>3</td>\n",
              "      <td>Heikkinen, Miss. Laina</td>\n",
              "      <td>female</td>\n",
              "      <td>26.0</td>\n",
              "      <td>0</td>\n",
              "      <td>0</td>\n",
              "      <td>STON/O2. 3101282</td>\n",
              "      <td>7.9250</td>\n",
              "      <td>NaN</td>\n",
              "      <td>S</td>\n",
              "    </tr>\n",
              "    <tr>\n",
              "      <th>3</th>\n",
              "      <td>4</td>\n",
              "      <td>1</td>\n",
              "      <td>1</td>\n",
              "      <td>Futrelle, Mrs. Jacques Heath (Lily May Peel)</td>\n",
              "      <td>female</td>\n",
              "      <td>35.0</td>\n",
              "      <td>1</td>\n",
              "      <td>0</td>\n",
              "      <td>113803</td>\n",
              "      <td>53.1000</td>\n",
              "      <td>C123</td>\n",
              "      <td>S</td>\n",
              "    </tr>\n",
              "    <tr>\n",
              "      <th>4</th>\n",
              "      <td>5</td>\n",
              "      <td>0</td>\n",
              "      <td>3</td>\n",
              "      <td>Allen, Mr. William Henry</td>\n",
              "      <td>male</td>\n",
              "      <td>35.0</td>\n",
              "      <td>0</td>\n",
              "      <td>0</td>\n",
              "      <td>373450</td>\n",
              "      <td>8.0500</td>\n",
              "      <td>NaN</td>\n",
              "      <td>S</td>\n",
              "    </tr>\n",
              "    <tr>\n",
              "      <th>5</th>\n",
              "      <td>6</td>\n",
              "      <td>0</td>\n",
              "      <td>3</td>\n",
              "      <td>Moran, Mr. James</td>\n",
              "      <td>male</td>\n",
              "      <td>NaN</td>\n",
              "      <td>0</td>\n",
              "      <td>0</td>\n",
              "      <td>330877</td>\n",
              "      <td>8.4583</td>\n",
              "      <td>NaN</td>\n",
              "      <td>Q</td>\n",
              "    </tr>\n",
              "    <tr>\n",
              "      <th>6</th>\n",
              "      <td>7</td>\n",
              "      <td>0</td>\n",
              "      <td>1</td>\n",
              "      <td>McCarthy, Mr. Timothy J</td>\n",
              "      <td>male</td>\n",
              "      <td>54.0</td>\n",
              "      <td>0</td>\n",
              "      <td>0</td>\n",
              "      <td>17463</td>\n",
              "      <td>51.8625</td>\n",
              "      <td>E46</td>\n",
              "      <td>S</td>\n",
              "    </tr>\n",
              "    <tr>\n",
              "      <th>7</th>\n",
              "      <td>8</td>\n",
              "      <td>0</td>\n",
              "      <td>3</td>\n",
              "      <td>Palsson, Master. Gosta Leonard</td>\n",
              "      <td>male</td>\n",
              "      <td>2.0</td>\n",
              "      <td>3</td>\n",
              "      <td>1</td>\n",
              "      <td>349909</td>\n",
              "      <td>21.0750</td>\n",
              "      <td>NaN</td>\n",
              "      <td>S</td>\n",
              "    </tr>\n",
              "    <tr>\n",
              "      <th>8</th>\n",
              "      <td>9</td>\n",
              "      <td>1</td>\n",
              "      <td>3</td>\n",
              "      <td>Johnson, Mrs. Oscar W (Elisabeth Vilhelmina Berg)</td>\n",
              "      <td>female</td>\n",
              "      <td>27.0</td>\n",
              "      <td>0</td>\n",
              "      <td>2</td>\n",
              "      <td>347742</td>\n",
              "      <td>11.1333</td>\n",
              "      <td>NaN</td>\n",
              "      <td>S</td>\n",
              "    </tr>\n",
              "    <tr>\n",
              "      <th>9</th>\n",
              "      <td>10</td>\n",
              "      <td>1</td>\n",
              "      <td>2</td>\n",
              "      <td>Nasser, Mrs. Nicholas (Adele Achem)</td>\n",
              "      <td>female</td>\n",
              "      <td>14.0</td>\n",
              "      <td>1</td>\n",
              "      <td>0</td>\n",
              "      <td>237736</td>\n",
              "      <td>30.0708</td>\n",
              "      <td>NaN</td>\n",
              "      <td>C</td>\n",
              "    </tr>\n",
              "  </tbody>\n",
              "</table>\n",
              "</div>\n",
              "    <div class=\"colab-df-buttons\">\n",
              "\n",
              "  <div class=\"colab-df-container\">\n",
              "    <button class=\"colab-df-convert\" onclick=\"convertToInteractive('df-b9349b9d-3ac7-4f42-b419-161c74b2d253')\"\n",
              "            title=\"Convert this dataframe to an interactive table.\"\n",
              "            style=\"display:none;\">\n",
              "\n",
              "  <svg xmlns=\"http://www.w3.org/2000/svg\" height=\"24px\" viewBox=\"0 -960 960 960\">\n",
              "    <path d=\"M120-120v-720h720v720H120Zm60-500h600v-160H180v160Zm220 220h160v-160H400v160Zm0 220h160v-160H400v160ZM180-400h160v-160H180v160Zm440 0h160v-160H620v160ZM180-180h160v-160H180v160Zm440 0h160v-160H620v160Z\"/>\n",
              "  </svg>\n",
              "    </button>\n",
              "\n",
              "  <style>\n",
              "    .colab-df-container {\n",
              "      display:flex;\n",
              "      gap: 12px;\n",
              "    }\n",
              "\n",
              "    .colab-df-convert {\n",
              "      background-color: #E8F0FE;\n",
              "      border: none;\n",
              "      border-radius: 50%;\n",
              "      cursor: pointer;\n",
              "      display: none;\n",
              "      fill: #1967D2;\n",
              "      height: 32px;\n",
              "      padding: 0 0 0 0;\n",
              "      width: 32px;\n",
              "    }\n",
              "\n",
              "    .colab-df-convert:hover {\n",
              "      background-color: #E2EBFA;\n",
              "      box-shadow: 0px 1px 2px rgba(60, 64, 67, 0.3), 0px 1px 3px 1px rgba(60, 64, 67, 0.15);\n",
              "      fill: #174EA6;\n",
              "    }\n",
              "\n",
              "    .colab-df-buttons div {\n",
              "      margin-bottom: 4px;\n",
              "    }\n",
              "\n",
              "    [theme=dark] .colab-df-convert {\n",
              "      background-color: #3B4455;\n",
              "      fill: #D2E3FC;\n",
              "    }\n",
              "\n",
              "    [theme=dark] .colab-df-convert:hover {\n",
              "      background-color: #434B5C;\n",
              "      box-shadow: 0px 1px 3px 1px rgba(0, 0, 0, 0.15);\n",
              "      filter: drop-shadow(0px 1px 2px rgba(0, 0, 0, 0.3));\n",
              "      fill: #FFFFFF;\n",
              "    }\n",
              "  </style>\n",
              "\n",
              "    <script>\n",
              "      const buttonEl =\n",
              "        document.querySelector('#df-b9349b9d-3ac7-4f42-b419-161c74b2d253 button.colab-df-convert');\n",
              "      buttonEl.style.display =\n",
              "        google.colab.kernel.accessAllowed ? 'block' : 'none';\n",
              "\n",
              "      async function convertToInteractive(key) {\n",
              "        const element = document.querySelector('#df-b9349b9d-3ac7-4f42-b419-161c74b2d253');\n",
              "        const dataTable =\n",
              "          await google.colab.kernel.invokeFunction('convertToInteractive',\n",
              "                                                    [key], {});\n",
              "        if (!dataTable) return;\n",
              "\n",
              "        const docLinkHtml = 'Like what you see? Visit the ' +\n",
              "          '<a target=\"_blank\" href=https://colab.research.google.com/notebooks/data_table.ipynb>data table notebook</a>'\n",
              "          + ' to learn more about interactive tables.';\n",
              "        element.innerHTML = '';\n",
              "        dataTable['output_type'] = 'display_data';\n",
              "        await google.colab.output.renderOutput(dataTable, element);\n",
              "        const docLink = document.createElement('div');\n",
              "        docLink.innerHTML = docLinkHtml;\n",
              "        element.appendChild(docLink);\n",
              "      }\n",
              "    </script>\n",
              "  </div>\n",
              "\n",
              "\n",
              "    <div id=\"df-ac6cd3b1-d743-4cde-9e69-93f97dc1baf6\">\n",
              "      <button class=\"colab-df-quickchart\" onclick=\"quickchart('df-ac6cd3b1-d743-4cde-9e69-93f97dc1baf6')\"\n",
              "                title=\"Suggest charts\"\n",
              "                style=\"display:none;\">\n",
              "\n",
              "<svg xmlns=\"http://www.w3.org/2000/svg\" height=\"24px\"viewBox=\"0 0 24 24\"\n",
              "     width=\"24px\">\n",
              "    <g>\n",
              "        <path d=\"M19 3H5c-1.1 0-2 .9-2 2v14c0 1.1.9 2 2 2h14c1.1 0 2-.9 2-2V5c0-1.1-.9-2-2-2zM9 17H7v-7h2v7zm4 0h-2V7h2v10zm4 0h-2v-4h2v4z\"/>\n",
              "    </g>\n",
              "</svg>\n",
              "      </button>\n",
              "\n",
              "<style>\n",
              "  .colab-df-quickchart {\n",
              "      --bg-color: #E8F0FE;\n",
              "      --fill-color: #1967D2;\n",
              "      --hover-bg-color: #E2EBFA;\n",
              "      --hover-fill-color: #174EA6;\n",
              "      --disabled-fill-color: #AAA;\n",
              "      --disabled-bg-color: #DDD;\n",
              "  }\n",
              "\n",
              "  [theme=dark] .colab-df-quickchart {\n",
              "      --bg-color: #3B4455;\n",
              "      --fill-color: #D2E3FC;\n",
              "      --hover-bg-color: #434B5C;\n",
              "      --hover-fill-color: #FFFFFF;\n",
              "      --disabled-bg-color: #3B4455;\n",
              "      --disabled-fill-color: #666;\n",
              "  }\n",
              "\n",
              "  .colab-df-quickchart {\n",
              "    background-color: var(--bg-color);\n",
              "    border: none;\n",
              "    border-radius: 50%;\n",
              "    cursor: pointer;\n",
              "    display: none;\n",
              "    fill: var(--fill-color);\n",
              "    height: 32px;\n",
              "    padding: 0;\n",
              "    width: 32px;\n",
              "  }\n",
              "\n",
              "  .colab-df-quickchart:hover {\n",
              "    background-color: var(--hover-bg-color);\n",
              "    box-shadow: 0 1px 2px rgba(60, 64, 67, 0.3), 0 1px 3px 1px rgba(60, 64, 67, 0.15);\n",
              "    fill: var(--button-hover-fill-color);\n",
              "  }\n",
              "\n",
              "  .colab-df-quickchart-complete:disabled,\n",
              "  .colab-df-quickchart-complete:disabled:hover {\n",
              "    background-color: var(--disabled-bg-color);\n",
              "    fill: var(--disabled-fill-color);\n",
              "    box-shadow: none;\n",
              "  }\n",
              "\n",
              "  .colab-df-spinner {\n",
              "    border: 2px solid var(--fill-color);\n",
              "    border-color: transparent;\n",
              "    border-bottom-color: var(--fill-color);\n",
              "    animation:\n",
              "      spin 1s steps(1) infinite;\n",
              "  }\n",
              "\n",
              "  @keyframes spin {\n",
              "    0% {\n",
              "      border-color: transparent;\n",
              "      border-bottom-color: var(--fill-color);\n",
              "      border-left-color: var(--fill-color);\n",
              "    }\n",
              "    20% {\n",
              "      border-color: transparent;\n",
              "      border-left-color: var(--fill-color);\n",
              "      border-top-color: var(--fill-color);\n",
              "    }\n",
              "    30% {\n",
              "      border-color: transparent;\n",
              "      border-left-color: var(--fill-color);\n",
              "      border-top-color: var(--fill-color);\n",
              "      border-right-color: var(--fill-color);\n",
              "    }\n",
              "    40% {\n",
              "      border-color: transparent;\n",
              "      border-right-color: var(--fill-color);\n",
              "      border-top-color: var(--fill-color);\n",
              "    }\n",
              "    60% {\n",
              "      border-color: transparent;\n",
              "      border-right-color: var(--fill-color);\n",
              "    }\n",
              "    80% {\n",
              "      border-color: transparent;\n",
              "      border-right-color: var(--fill-color);\n",
              "      border-bottom-color: var(--fill-color);\n",
              "    }\n",
              "    90% {\n",
              "      border-color: transparent;\n",
              "      border-bottom-color: var(--fill-color);\n",
              "    }\n",
              "  }\n",
              "</style>\n",
              "\n",
              "      <script>\n",
              "        async function quickchart(key) {\n",
              "          const quickchartButtonEl =\n",
              "            document.querySelector('#' + key + ' button');\n",
              "          quickchartButtonEl.disabled = true;  // To prevent multiple clicks.\n",
              "          quickchartButtonEl.classList.add('colab-df-spinner');\n",
              "          try {\n",
              "            const charts = await google.colab.kernel.invokeFunction(\n",
              "                'suggestCharts', [key], {});\n",
              "          } catch (error) {\n",
              "            console.error('Error during call to suggestCharts:', error);\n",
              "          }\n",
              "          quickchartButtonEl.classList.remove('colab-df-spinner');\n",
              "          quickchartButtonEl.classList.add('colab-df-quickchart-complete');\n",
              "        }\n",
              "        (() => {\n",
              "          let quickchartButtonEl =\n",
              "            document.querySelector('#df-ac6cd3b1-d743-4cde-9e69-93f97dc1baf6 button');\n",
              "          quickchartButtonEl.style.display =\n",
              "            google.colab.kernel.accessAllowed ? 'block' : 'none';\n",
              "        })();\n",
              "      </script>\n",
              "    </div>\n",
              "\n",
              "    </div>\n",
              "  </div>\n"
            ],
            "application/vnd.google.colaboratory.intrinsic+json": {
              "type": "dataframe",
              "variable_name": "train_df",
              "summary": "{\n  \"name\": \"train_df\",\n  \"rows\": 891,\n  \"fields\": [\n    {\n      \"column\": \"PassengerId\",\n      \"properties\": {\n        \"dtype\": \"number\",\n        \"std\": 257,\n        \"min\": 1,\n        \"max\": 891,\n        \"num_unique_values\": 891,\n        \"samples\": [\n          710,\n          440,\n          841\n        ],\n        \"semantic_type\": \"\",\n        \"description\": \"\"\n      }\n    },\n    {\n      \"column\": \"Survived\",\n      \"properties\": {\n        \"dtype\": \"number\",\n        \"std\": 0,\n        \"min\": 0,\n        \"max\": 1,\n        \"num_unique_values\": 2,\n        \"samples\": [\n          1,\n          0\n        ],\n        \"semantic_type\": \"\",\n        \"description\": \"\"\n      }\n    },\n    {\n      \"column\": \"Pclass\",\n      \"properties\": {\n        \"dtype\": \"number\",\n        \"std\": 0,\n        \"min\": 1,\n        \"max\": 3,\n        \"num_unique_values\": 3,\n        \"samples\": [\n          3,\n          1\n        ],\n        \"semantic_type\": \"\",\n        \"description\": \"\"\n      }\n    },\n    {\n      \"column\": \"Name\",\n      \"properties\": {\n        \"dtype\": \"string\",\n        \"num_unique_values\": 891,\n        \"samples\": [\n          \"Moubarek, Master. Halim Gonios (\\\"William George\\\")\",\n          \"Kvillner, Mr. Johan Henrik Johannesson\"\n        ],\n        \"semantic_type\": \"\",\n        \"description\": \"\"\n      }\n    },\n    {\n      \"column\": \"Sex\",\n      \"properties\": {\n        \"dtype\": \"category\",\n        \"num_unique_values\": 2,\n        \"samples\": [\n          \"female\",\n          \"male\"\n        ],\n        \"semantic_type\": \"\",\n        \"description\": \"\"\n      }\n    },\n    {\n      \"column\": \"Age\",\n      \"properties\": {\n        \"dtype\": \"number\",\n        \"std\": 14.526497332334044,\n        \"min\": 0.42,\n        \"max\": 80.0,\n        \"num_unique_values\": 88,\n        \"samples\": [\n          0.75,\n          22.0\n        ],\n        \"semantic_type\": \"\",\n        \"description\": \"\"\n      }\n    },\n    {\n      \"column\": \"SibSp\",\n      \"properties\": {\n        \"dtype\": \"number\",\n        \"std\": 1,\n        \"min\": 0,\n        \"max\": 8,\n        \"num_unique_values\": 7,\n        \"samples\": [\n          1,\n          0\n        ],\n        \"semantic_type\": \"\",\n        \"description\": \"\"\n      }\n    },\n    {\n      \"column\": \"Parch\",\n      \"properties\": {\n        \"dtype\": \"number\",\n        \"std\": 0,\n        \"min\": 0,\n        \"max\": 6,\n        \"num_unique_values\": 7,\n        \"samples\": [\n          0,\n          1\n        ],\n        \"semantic_type\": \"\",\n        \"description\": \"\"\n      }\n    },\n    {\n      \"column\": \"Ticket\",\n      \"properties\": {\n        \"dtype\": \"string\",\n        \"num_unique_values\": 681,\n        \"samples\": [\n          \"11774\",\n          \"248740\"\n        ],\n        \"semantic_type\": \"\",\n        \"description\": \"\"\n      }\n    },\n    {\n      \"column\": \"Fare\",\n      \"properties\": {\n        \"dtype\": \"number\",\n        \"std\": 49.693428597180905,\n        \"min\": 0.0,\n        \"max\": 512.3292,\n        \"num_unique_values\": 248,\n        \"samples\": [\n          11.2417,\n          51.8625\n        ],\n        \"semantic_type\": \"\",\n        \"description\": \"\"\n      }\n    },\n    {\n      \"column\": \"Cabin\",\n      \"properties\": {\n        \"dtype\": \"category\",\n        \"num_unique_values\": 147,\n        \"samples\": [\n          \"D45\",\n          \"B49\"\n        ],\n        \"semantic_type\": \"\",\n        \"description\": \"\"\n      }\n    },\n    {\n      \"column\": \"Embarked\",\n      \"properties\": {\n        \"dtype\": \"category\",\n        \"num_unique_values\": 3,\n        \"samples\": [\n          \"S\",\n          \"C\"\n        ],\n        \"semantic_type\": \"\",\n        \"description\": \"\"\n      }\n    }\n  ]\n}"
            }
          },
          "metadata": {},
          "execution_count": 95
        }
      ]
    },
    {
      "cell_type": "code",
      "source": [
        "train_df.info()\n",
        "test_df.info()\n"
      ],
      "metadata": {
        "colab": {
          "base_uri": "https://localhost:8080/"
        },
        "id": "ccPJcnLeQgBy",
        "outputId": "2acc4726-5664-492e-b187-61e083dca182"
      },
      "execution_count": 96,
      "outputs": [
        {
          "output_type": "stream",
          "name": "stdout",
          "text": [
            "<class 'pandas.core.frame.DataFrame'>\n",
            "RangeIndex: 891 entries, 0 to 890\n",
            "Data columns (total 12 columns):\n",
            " #   Column       Non-Null Count  Dtype  \n",
            "---  ------       --------------  -----  \n",
            " 0   PassengerId  891 non-null    int64  \n",
            " 1   Survived     891 non-null    int64  \n",
            " 2   Pclass       891 non-null    int64  \n",
            " 3   Name         891 non-null    object \n",
            " 4   Sex          891 non-null    object \n",
            " 5   Age          714 non-null    float64\n",
            " 6   SibSp        891 non-null    int64  \n",
            " 7   Parch        891 non-null    int64  \n",
            " 8   Ticket       891 non-null    object \n",
            " 9   Fare         891 non-null    float64\n",
            " 10  Cabin        204 non-null    object \n",
            " 11  Embarked     889 non-null    object \n",
            "dtypes: float64(2), int64(5), object(5)\n",
            "memory usage: 83.7+ KB\n",
            "<class 'pandas.core.frame.DataFrame'>\n",
            "RangeIndex: 418 entries, 0 to 417\n",
            "Data columns (total 11 columns):\n",
            " #   Column       Non-Null Count  Dtype  \n",
            "---  ------       --------------  -----  \n",
            " 0   PassengerId  418 non-null    int64  \n",
            " 1   Pclass       418 non-null    int64  \n",
            " 2   Name         418 non-null    object \n",
            " 3   Sex          418 non-null    object \n",
            " 4   Age          332 non-null    float64\n",
            " 5   SibSp        418 non-null    int64  \n",
            " 6   Parch        418 non-null    int64  \n",
            " 7   Ticket       418 non-null    object \n",
            " 8   Fare         417 non-null    float64\n",
            " 9   Cabin        91 non-null     object \n",
            " 10  Embarked     418 non-null    object \n",
            "dtypes: float64(2), int64(4), object(5)\n",
            "memory usage: 36.1+ KB\n"
          ]
        }
      ]
    },
    {
      "cell_type": "markdown",
      "source": [
        "Train Data (train_df):\n",
        "891 rows, 12 columns\n",
        "\n",
        "Key columns:\n",
        "\n",
        "Survived (target) — no missing values\n",
        "\n",
        "Age — 177 missing values (only 714 present)\n",
        "\n",
        "Cabin — many missing values (only 204 present)\n",
        "\n",
        "Embarked — 2 missing values\n",
        "\n",
        "Mix of numeric (int64, float64) and categorical (object) columns.\n",
        "\n",
        "Test Data (test_df):\n",
        "418 rows, 11 columns (no Survived column)\n",
        "\n",
        "Missing values in:\n",
        "\n",
        "Age — 86 missing\n",
        "\n",
        "Fare — 1 missing\n",
        "\n",
        "Cabin — many missing (only 91 present)\n",
        "\n",
        "Other columns fully present"
      ],
      "metadata": {
        "id": "nRQOLiahjNaz"
      }
    },
    {
      "cell_type": "code",
      "source": [
        "# Save PassengerId for submission\n",
        "test_passenger_ids = test_df['PassengerId']"
      ],
      "metadata": {
        "id": "S-U4iUJKQuKS"
      },
      "execution_count": 97,
      "outputs": []
    },
    {
      "cell_type": "code",
      "source": [
        "# 2. Combine for uniform processing\n",
        "'''\n",
        "Why combine?\n",
        "- To process features uniformly across train and test.\n",
        "- Ensures consistency in feature engineering and encoding.\n",
        "'''\n",
        "data = pd.concat([train_df, test_df], sort=False)\n"
      ],
      "metadata": {
        "id": "wuk_r-g9TZhI"
      },
      "execution_count": 98,
      "outputs": []
    },
    {
      "cell_type": "code",
      "source": [
        "print(\"Combined shape:\", data.shape)"
      ],
      "metadata": {
        "colab": {
          "base_uri": "https://localhost:8080/"
        },
        "id": "bzRqLJ9kUoV6",
        "outputId": "900cedf2-247b-42af-e1b8-aa76191321fe"
      },
      "execution_count": 99,
      "outputs": [
        {
          "output_type": "stream",
          "name": "stdout",
          "text": [
            "Combined shape: (1309, 12)\n"
          ]
        }
      ]
    },
    {
      "cell_type": "code",
      "source": [
        "data.head(10)"
      ],
      "metadata": {
        "colab": {
          "base_uri": "https://localhost:8080/",
          "height": 363
        },
        "id": "-Nloo6E_UqQ2",
        "outputId": "ac3609a9-bbe0-4149-f6f9-87943e20810a"
      },
      "execution_count": 100,
      "outputs": [
        {
          "output_type": "execute_result",
          "data": {
            "text/plain": [
              "   PassengerId  Survived  Pclass  \\\n",
              "0            1       0.0       3   \n",
              "1            2       1.0       1   \n",
              "2            3       1.0       3   \n",
              "3            4       1.0       1   \n",
              "4            5       0.0       3   \n",
              "5            6       0.0       3   \n",
              "6            7       0.0       1   \n",
              "7            8       0.0       3   \n",
              "8            9       1.0       3   \n",
              "9           10       1.0       2   \n",
              "\n",
              "                                                Name     Sex   Age  SibSp  \\\n",
              "0                            Braund, Mr. Owen Harris    male  22.0      1   \n",
              "1  Cumings, Mrs. John Bradley (Florence Briggs Th...  female  38.0      1   \n",
              "2                             Heikkinen, Miss. Laina  female  26.0      0   \n",
              "3       Futrelle, Mrs. Jacques Heath (Lily May Peel)  female  35.0      1   \n",
              "4                           Allen, Mr. William Henry    male  35.0      0   \n",
              "5                                   Moran, Mr. James    male   NaN      0   \n",
              "6                            McCarthy, Mr. Timothy J    male  54.0      0   \n",
              "7                     Palsson, Master. Gosta Leonard    male   2.0      3   \n",
              "8  Johnson, Mrs. Oscar W (Elisabeth Vilhelmina Berg)  female  27.0      0   \n",
              "9                Nasser, Mrs. Nicholas (Adele Achem)  female  14.0      1   \n",
              "\n",
              "   Parch            Ticket     Fare Cabin Embarked  \n",
              "0      0         A/5 21171   7.2500   NaN        S  \n",
              "1      0          PC 17599  71.2833   C85        C  \n",
              "2      0  STON/O2. 3101282   7.9250   NaN        S  \n",
              "3      0            113803  53.1000  C123        S  \n",
              "4      0            373450   8.0500   NaN        S  \n",
              "5      0            330877   8.4583   NaN        Q  \n",
              "6      0             17463  51.8625   E46        S  \n",
              "7      1            349909  21.0750   NaN        S  \n",
              "8      2            347742  11.1333   NaN        S  \n",
              "9      0            237736  30.0708   NaN        C  "
            ],
            "text/html": [
              "\n",
              "  <div id=\"df-f3420e0f-d7cc-4455-ab5d-8ac19eeb5307\" class=\"colab-df-container\">\n",
              "    <div>\n",
              "<style scoped>\n",
              "    .dataframe tbody tr th:only-of-type {\n",
              "        vertical-align: middle;\n",
              "    }\n",
              "\n",
              "    .dataframe tbody tr th {\n",
              "        vertical-align: top;\n",
              "    }\n",
              "\n",
              "    .dataframe thead th {\n",
              "        text-align: right;\n",
              "    }\n",
              "</style>\n",
              "<table border=\"1\" class=\"dataframe\">\n",
              "  <thead>\n",
              "    <tr style=\"text-align: right;\">\n",
              "      <th></th>\n",
              "      <th>PassengerId</th>\n",
              "      <th>Survived</th>\n",
              "      <th>Pclass</th>\n",
              "      <th>Name</th>\n",
              "      <th>Sex</th>\n",
              "      <th>Age</th>\n",
              "      <th>SibSp</th>\n",
              "      <th>Parch</th>\n",
              "      <th>Ticket</th>\n",
              "      <th>Fare</th>\n",
              "      <th>Cabin</th>\n",
              "      <th>Embarked</th>\n",
              "    </tr>\n",
              "  </thead>\n",
              "  <tbody>\n",
              "    <tr>\n",
              "      <th>0</th>\n",
              "      <td>1</td>\n",
              "      <td>0.0</td>\n",
              "      <td>3</td>\n",
              "      <td>Braund, Mr. Owen Harris</td>\n",
              "      <td>male</td>\n",
              "      <td>22.0</td>\n",
              "      <td>1</td>\n",
              "      <td>0</td>\n",
              "      <td>A/5 21171</td>\n",
              "      <td>7.2500</td>\n",
              "      <td>NaN</td>\n",
              "      <td>S</td>\n",
              "    </tr>\n",
              "    <tr>\n",
              "      <th>1</th>\n",
              "      <td>2</td>\n",
              "      <td>1.0</td>\n",
              "      <td>1</td>\n",
              "      <td>Cumings, Mrs. John Bradley (Florence Briggs Th...</td>\n",
              "      <td>female</td>\n",
              "      <td>38.0</td>\n",
              "      <td>1</td>\n",
              "      <td>0</td>\n",
              "      <td>PC 17599</td>\n",
              "      <td>71.2833</td>\n",
              "      <td>C85</td>\n",
              "      <td>C</td>\n",
              "    </tr>\n",
              "    <tr>\n",
              "      <th>2</th>\n",
              "      <td>3</td>\n",
              "      <td>1.0</td>\n",
              "      <td>3</td>\n",
              "      <td>Heikkinen, Miss. Laina</td>\n",
              "      <td>female</td>\n",
              "      <td>26.0</td>\n",
              "      <td>0</td>\n",
              "      <td>0</td>\n",
              "      <td>STON/O2. 3101282</td>\n",
              "      <td>7.9250</td>\n",
              "      <td>NaN</td>\n",
              "      <td>S</td>\n",
              "    </tr>\n",
              "    <tr>\n",
              "      <th>3</th>\n",
              "      <td>4</td>\n",
              "      <td>1.0</td>\n",
              "      <td>1</td>\n",
              "      <td>Futrelle, Mrs. Jacques Heath (Lily May Peel)</td>\n",
              "      <td>female</td>\n",
              "      <td>35.0</td>\n",
              "      <td>1</td>\n",
              "      <td>0</td>\n",
              "      <td>113803</td>\n",
              "      <td>53.1000</td>\n",
              "      <td>C123</td>\n",
              "      <td>S</td>\n",
              "    </tr>\n",
              "    <tr>\n",
              "      <th>4</th>\n",
              "      <td>5</td>\n",
              "      <td>0.0</td>\n",
              "      <td>3</td>\n",
              "      <td>Allen, Mr. William Henry</td>\n",
              "      <td>male</td>\n",
              "      <td>35.0</td>\n",
              "      <td>0</td>\n",
              "      <td>0</td>\n",
              "      <td>373450</td>\n",
              "      <td>8.0500</td>\n",
              "      <td>NaN</td>\n",
              "      <td>S</td>\n",
              "    </tr>\n",
              "    <tr>\n",
              "      <th>5</th>\n",
              "      <td>6</td>\n",
              "      <td>0.0</td>\n",
              "      <td>3</td>\n",
              "      <td>Moran, Mr. James</td>\n",
              "      <td>male</td>\n",
              "      <td>NaN</td>\n",
              "      <td>0</td>\n",
              "      <td>0</td>\n",
              "      <td>330877</td>\n",
              "      <td>8.4583</td>\n",
              "      <td>NaN</td>\n",
              "      <td>Q</td>\n",
              "    </tr>\n",
              "    <tr>\n",
              "      <th>6</th>\n",
              "      <td>7</td>\n",
              "      <td>0.0</td>\n",
              "      <td>1</td>\n",
              "      <td>McCarthy, Mr. Timothy J</td>\n",
              "      <td>male</td>\n",
              "      <td>54.0</td>\n",
              "      <td>0</td>\n",
              "      <td>0</td>\n",
              "      <td>17463</td>\n",
              "      <td>51.8625</td>\n",
              "      <td>E46</td>\n",
              "      <td>S</td>\n",
              "    </tr>\n",
              "    <tr>\n",
              "      <th>7</th>\n",
              "      <td>8</td>\n",
              "      <td>0.0</td>\n",
              "      <td>3</td>\n",
              "      <td>Palsson, Master. Gosta Leonard</td>\n",
              "      <td>male</td>\n",
              "      <td>2.0</td>\n",
              "      <td>3</td>\n",
              "      <td>1</td>\n",
              "      <td>349909</td>\n",
              "      <td>21.0750</td>\n",
              "      <td>NaN</td>\n",
              "      <td>S</td>\n",
              "    </tr>\n",
              "    <tr>\n",
              "      <th>8</th>\n",
              "      <td>9</td>\n",
              "      <td>1.0</td>\n",
              "      <td>3</td>\n",
              "      <td>Johnson, Mrs. Oscar W (Elisabeth Vilhelmina Berg)</td>\n",
              "      <td>female</td>\n",
              "      <td>27.0</td>\n",
              "      <td>0</td>\n",
              "      <td>2</td>\n",
              "      <td>347742</td>\n",
              "      <td>11.1333</td>\n",
              "      <td>NaN</td>\n",
              "      <td>S</td>\n",
              "    </tr>\n",
              "    <tr>\n",
              "      <th>9</th>\n",
              "      <td>10</td>\n",
              "      <td>1.0</td>\n",
              "      <td>2</td>\n",
              "      <td>Nasser, Mrs. Nicholas (Adele Achem)</td>\n",
              "      <td>female</td>\n",
              "      <td>14.0</td>\n",
              "      <td>1</td>\n",
              "      <td>0</td>\n",
              "      <td>237736</td>\n",
              "      <td>30.0708</td>\n",
              "      <td>NaN</td>\n",
              "      <td>C</td>\n",
              "    </tr>\n",
              "  </tbody>\n",
              "</table>\n",
              "</div>\n",
              "    <div class=\"colab-df-buttons\">\n",
              "\n",
              "  <div class=\"colab-df-container\">\n",
              "    <button class=\"colab-df-convert\" onclick=\"convertToInteractive('df-f3420e0f-d7cc-4455-ab5d-8ac19eeb5307')\"\n",
              "            title=\"Convert this dataframe to an interactive table.\"\n",
              "            style=\"display:none;\">\n",
              "\n",
              "  <svg xmlns=\"http://www.w3.org/2000/svg\" height=\"24px\" viewBox=\"0 -960 960 960\">\n",
              "    <path d=\"M120-120v-720h720v720H120Zm60-500h600v-160H180v160Zm220 220h160v-160H400v160Zm0 220h160v-160H400v160ZM180-400h160v-160H180v160Zm440 0h160v-160H620v160ZM180-180h160v-160H180v160Zm440 0h160v-160H620v160Z\"/>\n",
              "  </svg>\n",
              "    </button>\n",
              "\n",
              "  <style>\n",
              "    .colab-df-container {\n",
              "      display:flex;\n",
              "      gap: 12px;\n",
              "    }\n",
              "\n",
              "    .colab-df-convert {\n",
              "      background-color: #E8F0FE;\n",
              "      border: none;\n",
              "      border-radius: 50%;\n",
              "      cursor: pointer;\n",
              "      display: none;\n",
              "      fill: #1967D2;\n",
              "      height: 32px;\n",
              "      padding: 0 0 0 0;\n",
              "      width: 32px;\n",
              "    }\n",
              "\n",
              "    .colab-df-convert:hover {\n",
              "      background-color: #E2EBFA;\n",
              "      box-shadow: 0px 1px 2px rgba(60, 64, 67, 0.3), 0px 1px 3px 1px rgba(60, 64, 67, 0.15);\n",
              "      fill: #174EA6;\n",
              "    }\n",
              "\n",
              "    .colab-df-buttons div {\n",
              "      margin-bottom: 4px;\n",
              "    }\n",
              "\n",
              "    [theme=dark] .colab-df-convert {\n",
              "      background-color: #3B4455;\n",
              "      fill: #D2E3FC;\n",
              "    }\n",
              "\n",
              "    [theme=dark] .colab-df-convert:hover {\n",
              "      background-color: #434B5C;\n",
              "      box-shadow: 0px 1px 3px 1px rgba(0, 0, 0, 0.15);\n",
              "      filter: drop-shadow(0px 1px 2px rgba(0, 0, 0, 0.3));\n",
              "      fill: #FFFFFF;\n",
              "    }\n",
              "  </style>\n",
              "\n",
              "    <script>\n",
              "      const buttonEl =\n",
              "        document.querySelector('#df-f3420e0f-d7cc-4455-ab5d-8ac19eeb5307 button.colab-df-convert');\n",
              "      buttonEl.style.display =\n",
              "        google.colab.kernel.accessAllowed ? 'block' : 'none';\n",
              "\n",
              "      async function convertToInteractive(key) {\n",
              "        const element = document.querySelector('#df-f3420e0f-d7cc-4455-ab5d-8ac19eeb5307');\n",
              "        const dataTable =\n",
              "          await google.colab.kernel.invokeFunction('convertToInteractive',\n",
              "                                                    [key], {});\n",
              "        if (!dataTable) return;\n",
              "\n",
              "        const docLinkHtml = 'Like what you see? Visit the ' +\n",
              "          '<a target=\"_blank\" href=https://colab.research.google.com/notebooks/data_table.ipynb>data table notebook</a>'\n",
              "          + ' to learn more about interactive tables.';\n",
              "        element.innerHTML = '';\n",
              "        dataTable['output_type'] = 'display_data';\n",
              "        await google.colab.output.renderOutput(dataTable, element);\n",
              "        const docLink = document.createElement('div');\n",
              "        docLink.innerHTML = docLinkHtml;\n",
              "        element.appendChild(docLink);\n",
              "      }\n",
              "    </script>\n",
              "  </div>\n",
              "\n",
              "\n",
              "    <div id=\"df-34e3fa69-2c65-44eb-a87b-6bed41b2469d\">\n",
              "      <button class=\"colab-df-quickchart\" onclick=\"quickchart('df-34e3fa69-2c65-44eb-a87b-6bed41b2469d')\"\n",
              "                title=\"Suggest charts\"\n",
              "                style=\"display:none;\">\n",
              "\n",
              "<svg xmlns=\"http://www.w3.org/2000/svg\" height=\"24px\"viewBox=\"0 0 24 24\"\n",
              "     width=\"24px\">\n",
              "    <g>\n",
              "        <path d=\"M19 3H5c-1.1 0-2 .9-2 2v14c0 1.1.9 2 2 2h14c1.1 0 2-.9 2-2V5c0-1.1-.9-2-2-2zM9 17H7v-7h2v7zm4 0h-2V7h2v10zm4 0h-2v-4h2v4z\"/>\n",
              "    </g>\n",
              "</svg>\n",
              "      </button>\n",
              "\n",
              "<style>\n",
              "  .colab-df-quickchart {\n",
              "      --bg-color: #E8F0FE;\n",
              "      --fill-color: #1967D2;\n",
              "      --hover-bg-color: #E2EBFA;\n",
              "      --hover-fill-color: #174EA6;\n",
              "      --disabled-fill-color: #AAA;\n",
              "      --disabled-bg-color: #DDD;\n",
              "  }\n",
              "\n",
              "  [theme=dark] .colab-df-quickchart {\n",
              "      --bg-color: #3B4455;\n",
              "      --fill-color: #D2E3FC;\n",
              "      --hover-bg-color: #434B5C;\n",
              "      --hover-fill-color: #FFFFFF;\n",
              "      --disabled-bg-color: #3B4455;\n",
              "      --disabled-fill-color: #666;\n",
              "  }\n",
              "\n",
              "  .colab-df-quickchart {\n",
              "    background-color: var(--bg-color);\n",
              "    border: none;\n",
              "    border-radius: 50%;\n",
              "    cursor: pointer;\n",
              "    display: none;\n",
              "    fill: var(--fill-color);\n",
              "    height: 32px;\n",
              "    padding: 0;\n",
              "    width: 32px;\n",
              "  }\n",
              "\n",
              "  .colab-df-quickchart:hover {\n",
              "    background-color: var(--hover-bg-color);\n",
              "    box-shadow: 0 1px 2px rgba(60, 64, 67, 0.3), 0 1px 3px 1px rgba(60, 64, 67, 0.15);\n",
              "    fill: var(--button-hover-fill-color);\n",
              "  }\n",
              "\n",
              "  .colab-df-quickchart-complete:disabled,\n",
              "  .colab-df-quickchart-complete:disabled:hover {\n",
              "    background-color: var(--disabled-bg-color);\n",
              "    fill: var(--disabled-fill-color);\n",
              "    box-shadow: none;\n",
              "  }\n",
              "\n",
              "  .colab-df-spinner {\n",
              "    border: 2px solid var(--fill-color);\n",
              "    border-color: transparent;\n",
              "    border-bottom-color: var(--fill-color);\n",
              "    animation:\n",
              "      spin 1s steps(1) infinite;\n",
              "  }\n",
              "\n",
              "  @keyframes spin {\n",
              "    0% {\n",
              "      border-color: transparent;\n",
              "      border-bottom-color: var(--fill-color);\n",
              "      border-left-color: var(--fill-color);\n",
              "    }\n",
              "    20% {\n",
              "      border-color: transparent;\n",
              "      border-left-color: var(--fill-color);\n",
              "      border-top-color: var(--fill-color);\n",
              "    }\n",
              "    30% {\n",
              "      border-color: transparent;\n",
              "      border-left-color: var(--fill-color);\n",
              "      border-top-color: var(--fill-color);\n",
              "      border-right-color: var(--fill-color);\n",
              "    }\n",
              "    40% {\n",
              "      border-color: transparent;\n",
              "      border-right-color: var(--fill-color);\n",
              "      border-top-color: var(--fill-color);\n",
              "    }\n",
              "    60% {\n",
              "      border-color: transparent;\n",
              "      border-right-color: var(--fill-color);\n",
              "    }\n",
              "    80% {\n",
              "      border-color: transparent;\n",
              "      border-right-color: var(--fill-color);\n",
              "      border-bottom-color: var(--fill-color);\n",
              "    }\n",
              "    90% {\n",
              "      border-color: transparent;\n",
              "      border-bottom-color: var(--fill-color);\n",
              "    }\n",
              "  }\n",
              "</style>\n",
              "\n",
              "      <script>\n",
              "        async function quickchart(key) {\n",
              "          const quickchartButtonEl =\n",
              "            document.querySelector('#' + key + ' button');\n",
              "          quickchartButtonEl.disabled = true;  // To prevent multiple clicks.\n",
              "          quickchartButtonEl.classList.add('colab-df-spinner');\n",
              "          try {\n",
              "            const charts = await google.colab.kernel.invokeFunction(\n",
              "                'suggestCharts', [key], {});\n",
              "          } catch (error) {\n",
              "            console.error('Error during call to suggestCharts:', error);\n",
              "          }\n",
              "          quickchartButtonEl.classList.remove('colab-df-spinner');\n",
              "          quickchartButtonEl.classList.add('colab-df-quickchart-complete');\n",
              "        }\n",
              "        (() => {\n",
              "          let quickchartButtonEl =\n",
              "            document.querySelector('#df-34e3fa69-2c65-44eb-a87b-6bed41b2469d button');\n",
              "          quickchartButtonEl.style.display =\n",
              "            google.colab.kernel.accessAllowed ? 'block' : 'none';\n",
              "        })();\n",
              "      </script>\n",
              "    </div>\n",
              "\n",
              "    </div>\n",
              "  </div>\n"
            ],
            "application/vnd.google.colaboratory.intrinsic+json": {
              "type": "dataframe",
              "variable_name": "data",
              "summary": "{\n  \"name\": \"data\",\n  \"rows\": 1309,\n  \"fields\": [\n    {\n      \"column\": \"PassengerId\",\n      \"properties\": {\n        \"dtype\": \"number\",\n        \"std\": 378,\n        \"min\": 1,\n        \"max\": 1309,\n        \"num_unique_values\": 1309,\n        \"samples\": [\n          1149,\n          1050,\n          983\n        ],\n        \"semantic_type\": \"\",\n        \"description\": \"\"\n      }\n    },\n    {\n      \"column\": \"Survived\",\n      \"properties\": {\n        \"dtype\": \"number\",\n        \"std\": 0.4865924542648585,\n        \"min\": 0.0,\n        \"max\": 1.0,\n        \"num_unique_values\": 2,\n        \"samples\": [\n          1.0,\n          0.0\n        ],\n        \"semantic_type\": \"\",\n        \"description\": \"\"\n      }\n    },\n    {\n      \"column\": \"Pclass\",\n      \"properties\": {\n        \"dtype\": \"number\",\n        \"std\": 0,\n        \"min\": 1,\n        \"max\": 3,\n        \"num_unique_values\": 3,\n        \"samples\": [\n          3,\n          1\n        ],\n        \"semantic_type\": \"\",\n        \"description\": \"\"\n      }\n    },\n    {\n      \"column\": \"Name\",\n      \"properties\": {\n        \"dtype\": \"string\",\n        \"num_unique_values\": 1307,\n        \"samples\": [\n          \"Bryhl, Miss. Dagmar Jenny Ingeborg \",\n          \"Borebank, Mr. John James\"\n        ],\n        \"semantic_type\": \"\",\n        \"description\": \"\"\n      }\n    },\n    {\n      \"column\": \"Sex\",\n      \"properties\": {\n        \"dtype\": \"category\",\n        \"num_unique_values\": 2,\n        \"samples\": [\n          \"female\",\n          \"male\"\n        ],\n        \"semantic_type\": \"\",\n        \"description\": \"\"\n      }\n    },\n    {\n      \"column\": \"Age\",\n      \"properties\": {\n        \"dtype\": \"number\",\n        \"std\": 14.413493211271334,\n        \"min\": 0.17,\n        \"max\": 80.0,\n        \"num_unique_values\": 98,\n        \"samples\": [\n          45.5,\n          23.0\n        ],\n        \"semantic_type\": \"\",\n        \"description\": \"\"\n      }\n    },\n    {\n      \"column\": \"SibSp\",\n      \"properties\": {\n        \"dtype\": \"number\",\n        \"std\": 1,\n        \"min\": 0,\n        \"max\": 8,\n        \"num_unique_values\": 7,\n        \"samples\": [\n          1,\n          0\n        ],\n        \"semantic_type\": \"\",\n        \"description\": \"\"\n      }\n    },\n    {\n      \"column\": \"Parch\",\n      \"properties\": {\n        \"dtype\": \"number\",\n        \"std\": 0,\n        \"min\": 0,\n        \"max\": 9,\n        \"num_unique_values\": 8,\n        \"samples\": [\n          1,\n          4\n        ],\n        \"semantic_type\": \"\",\n        \"description\": \"\"\n      }\n    },\n    {\n      \"column\": \"Ticket\",\n      \"properties\": {\n        \"dtype\": \"string\",\n        \"num_unique_values\": 929,\n        \"samples\": [\n          \"PC 17531\",\n          \"345765\"\n        ],\n        \"semantic_type\": \"\",\n        \"description\": \"\"\n      }\n    },\n    {\n      \"column\": \"Fare\",\n      \"properties\": {\n        \"dtype\": \"number\",\n        \"std\": 51.75866823917414,\n        \"min\": 0.0,\n        \"max\": 512.3292,\n        \"num_unique_values\": 281,\n        \"samples\": [\n          11.2417,\n          35.0\n        ],\n        \"semantic_type\": \"\",\n        \"description\": \"\"\n      }\n    },\n    {\n      \"column\": \"Cabin\",\n      \"properties\": {\n        \"dtype\": \"category\",\n        \"num_unique_values\": 186,\n        \"samples\": [\n          \"B71\",\n          \"C51\"\n        ],\n        \"semantic_type\": \"\",\n        \"description\": \"\"\n      }\n    },\n    {\n      \"column\": \"Embarked\",\n      \"properties\": {\n        \"dtype\": \"category\",\n        \"num_unique_values\": 3,\n        \"samples\": [\n          \"S\",\n          \"C\"\n        ],\n        \"semantic_type\": \"\",\n        \"description\": \"\"\n      }\n    }\n  ]\n}"
            }
          },
          "metadata": {},
          "execution_count": 100
        }
      ]
    },
    {
      "cell_type": "code",
      "source": [
        "#3.1 Fill missing 'Embarked' with mode\n",
        "'''\n",
        "Why fill missing values?\n",
        "- Machine learning models require no missing values.\n",
        "- Mode or median imputation maintains distribution without skewing data.\n",
        "'''\n",
        "\n",
        "data['Embarked'] = data['Embarked'].fillna(data['Embarked'].mode()[0])"
      ],
      "metadata": {
        "id": "dOBwrReHTb_O"
      },
      "execution_count": 101,
      "outputs": []
    },
    {
      "cell_type": "code",
      "source": [
        "data['Embarked'].value_counts()"
      ],
      "metadata": {
        "colab": {
          "base_uri": "https://localhost:8080/",
          "height": 209
        },
        "id": "oDUK0H8wVB8Y",
        "outputId": "7669046f-1155-44e2-ac50-5aac44748332"
      },
      "execution_count": 102,
      "outputs": [
        {
          "output_type": "execute_result",
          "data": {
            "text/plain": [
              "Embarked\n",
              "S    916\n",
              "C    270\n",
              "Q    123\n",
              "Name: count, dtype: int64"
            ],
            "text/html": [
              "<div>\n",
              "<style scoped>\n",
              "    .dataframe tbody tr th:only-of-type {\n",
              "        vertical-align: middle;\n",
              "    }\n",
              "\n",
              "    .dataframe tbody tr th {\n",
              "        vertical-align: top;\n",
              "    }\n",
              "\n",
              "    .dataframe thead th {\n",
              "        text-align: right;\n",
              "    }\n",
              "</style>\n",
              "<table border=\"1\" class=\"dataframe\">\n",
              "  <thead>\n",
              "    <tr style=\"text-align: right;\">\n",
              "      <th></th>\n",
              "      <th>count</th>\n",
              "    </tr>\n",
              "    <tr>\n",
              "      <th>Embarked</th>\n",
              "      <th></th>\n",
              "    </tr>\n",
              "  </thead>\n",
              "  <tbody>\n",
              "    <tr>\n",
              "      <th>S</th>\n",
              "      <td>916</td>\n",
              "    </tr>\n",
              "    <tr>\n",
              "      <th>C</th>\n",
              "      <td>270</td>\n",
              "    </tr>\n",
              "    <tr>\n",
              "      <th>Q</th>\n",
              "      <td>123</td>\n",
              "    </tr>\n",
              "  </tbody>\n",
              "</table>\n",
              "</div><br><label><b>dtype:</b> int64</label>"
            ]
          },
          "metadata": {},
          "execution_count": 102
        }
      ]
    },
    {
      "cell_type": "code",
      "source": [
        "# 3.2 Fill missing 'Fare' with median\n",
        "data['Fare'] = data['Fare'].fillna(data['Fare'].median())"
      ],
      "metadata": {
        "id": "OiXKq0HzTeCA"
      },
      "execution_count": 103,
      "outputs": []
    },
    {
      "cell_type": "code",
      "source": [
        "print(\"Number of missing Fare values:\", data['Fare'].isna().sum())"
      ],
      "metadata": {
        "colab": {
          "base_uri": "https://localhost:8080/"
        },
        "id": "3iOV3B1PVHDx",
        "outputId": "be231e16-6848-4605-db02-e1314f3659e1"
      },
      "execution_count": 104,
      "outputs": [
        {
          "output_type": "stream",
          "name": "stdout",
          "text": [
            "Number of missing Fare values: 0\n"
          ]
        }
      ]
    },
    {
      "cell_type": "code",
      "source": [
        "# 4.1 Extract Title from Name\n",
        "data['Title'] = data['Name'].str.extract(' ([A-Za-z]+)\\.', expand=False)"
      ],
      "metadata": {
        "id": "G6gpbpJ4ThoZ"
      },
      "execution_count": 105,
      "outputs": []
    },
    {
      "cell_type": "code",
      "source": [
        "# Simplify titles\n",
        "data['Title'] = data['Title'].replace(['Mlle', 'Ms'], 'Miss')\n",
        "data['Title'] = data['Title'].replace(['Mme'], 'Mrs')\n",
        "data['Title'] = data['Title'].replace(\n",
        "    ['Lady', 'Countess','Capt','Col','Don','Dr','Major','Rev','Sir','Jonkheer','Dona'], 'Rare')"
      ],
      "metadata": {
        "id": "QrMl5mFHTks_"
      },
      "execution_count": 106,
      "outputs": []
    },
    {
      "cell_type": "code",
      "source": [
        "# 4.2 Fill missing 'Age' based on median age per Title\n",
        "data['Age'] = data.groupby('Title')['Age'].transform(lambda x: x.fillna(x.median()))"
      ],
      "metadata": {
        "id": "SNFPG48gTnCV"
      },
      "execution_count": 107,
      "outputs": []
    },
    {
      "cell_type": "code",
      "source": [
        "print(\"Number of missing Age values:\", data['Age'].isna().sum())"
      ],
      "metadata": {
        "colab": {
          "base_uri": "https://localhost:8080/"
        },
        "id": "ZV4KSA4bXT_u",
        "outputId": "ba782f86-52e0-487b-d7cc-bd36dafb95e3"
      },
      "execution_count": 108,
      "outputs": [
        {
          "output_type": "stream",
          "name": "stdout",
          "text": [
            "Number of missing Age values: 0\n"
          ]
        }
      ]
    },
    {
      "cell_type": "code",
      "source": [
        "# 4.3 Create FamilySize feature\n",
        "data['FamilySize'] = data['SibSp'] + data['Parch'] + 1"
      ],
      "metadata": {
        "id": "YCeXnsKyTplf"
      },
      "execution_count": 109,
      "outputs": []
    },
    {
      "cell_type": "markdown",
      "source": [
        "\n",
        "\n",
        "SibSp: Number of siblings or spouses aboard.\n",
        "\n",
        "Parch: Number of parents or children aboard.\n",
        "\n",
        "FamilySize: Total family onboard, calculated as SibSp + Parch + 1 (including the passenger).\n",
        "\n",
        "Why combine them?\n",
        "FamilySize gives a single, more informative feature about how many relatives are traveling together, which can impact survival chances better than SibSp or Parch alone."
      ],
      "metadata": {
        "id": "tvBm3SopkGO4"
      }
    },
    {
      "cell_type": "code",
      "source": [
        "print(data[['SibSp', 'Parch', 'FamilySize']].head())"
      ],
      "metadata": {
        "colab": {
          "base_uri": "https://localhost:8080/"
        },
        "id": "GBSYq90QYXbI",
        "outputId": "bde69828-13ad-4f28-8e42-10ca5297e11f"
      },
      "execution_count": 110,
      "outputs": [
        {
          "output_type": "stream",
          "name": "stdout",
          "text": [
            "   SibSp  Parch  FamilySize\n",
            "0      1      0           2\n",
            "1      1      0           2\n",
            "2      0      0           1\n",
            "3      1      0           2\n",
            "4      0      0           1\n"
          ]
        }
      ]
    },
    {
      "cell_type": "code",
      "source": [
        "# 4.4 Create IsAlone feature\n",
        "data['IsAlone'] = (data['FamilySize'] == 1).astype(int)"
      ],
      "metadata": {
        "id": "vHdvZq-CTrka"
      },
      "execution_count": 111,
      "outputs": []
    },
    {
      "cell_type": "code",
      "source": [
        "# 4.5 Create FarePerPerson (Fare divided by family size)\n",
        "data['FarePerPerson'] = data['Fare'] / data['FamilySize']"
      ],
      "metadata": {
        "id": "DFTeSwqiTs9G"
      },
      "execution_count": 112,
      "outputs": []
    },
    {
      "cell_type": "markdown",
      "source": [
        "This shows two related features:\n",
        "\n",
        "FamilySize: Total number of family members onboard (including the passenger), calculated as SibSp + Parch + 1.\n",
        "\n",
        "IsAlone: A binary indicator where 1 means the passenger is alone (FamilySize = 1), and 0 means they have family aboard.\n",
        "\n",
        "Why add these?\n",
        "Family presence may affect survival chances — passengers alone might have different outcomes than those traveling with family. These features help the model capture social/family influence on survival."
      ],
      "metadata": {
        "id": "ywdcyt2uj-oa"
      }
    },
    {
      "cell_type": "code",
      "source": [
        "print(data[['FamilySize', 'IsAlone']].head())\n"
      ],
      "metadata": {
        "colab": {
          "base_uri": "https://localhost:8080/"
        },
        "id": "NPvWSYqrYnzE",
        "outputId": "fcea08a5-f51b-4ae8-f96d-00a7d215f238"
      },
      "execution_count": 113,
      "outputs": [
        {
          "output_type": "stream",
          "name": "stdout",
          "text": [
            "   FamilySize  IsAlone\n",
            "0           2        0\n",
            "1           2        0\n",
            "2           1        1\n",
            "3           2        0\n",
            "4           1        1\n"
          ]
        }
      ]
    },
    {
      "cell_type": "code",
      "source": [
        "# 4.6 Create AgeBin by binning Age\n",
        "data['AgeBin'] = pd.cut(data['Age'], bins=[0,12,18,25,35,60,80], labels=False)"
      ],
      "metadata": {
        "id": "dCaYI9xcTu2i"
      },
      "execution_count": 114,
      "outputs": []
    },
    {
      "cell_type": "markdown",
      "source": [
        "This shows the Age values alongside a new feature AgeBin, which groups ages into bins:\n",
        "\n",
        "Age is the exact age (e.g., 22, 38).\n",
        "\n",
        "AgeBin converts age into categories (e.g., 2, 3, 4) based on age ranges.\n",
        "\n",
        "Why do this?\n",
        "Binning age simplifies the continuous variable into meaningful age groups (like child, teenager, adult), which can help the model better capture patterns related to survival without overfitting to exact ages"
      ],
      "metadata": {
        "id": "Lq_8ip5bj2jS"
      }
    },
    {
      "cell_type": "code",
      "source": [
        "print(data[['Age', 'AgeBin']].head())\n"
      ],
      "metadata": {
        "colab": {
          "base_uri": "https://localhost:8080/"
        },
        "id": "2TGgMbbsYx4z",
        "outputId": "3f0a02c6-5ef6-4cfb-c303-4ebed474f6b2"
      },
      "execution_count": 115,
      "outputs": [
        {
          "output_type": "stream",
          "name": "stdout",
          "text": [
            "    Age  AgeBin\n",
            "0  22.0       2\n",
            "1  38.0       4\n",
            "2  26.0       3\n",
            "3  35.0       3\n",
            "4  35.0       3\n"
          ]
        }
      ]
    },
    {
      "cell_type": "code",
      "source": [
        "# 4.7 Ticket frequency: count how many times each ticket appears\n",
        "ticket_counts = data['Ticket'].value_counts()\n",
        "data['TicketFreq'] = data['Ticket'].map(ticket_counts)"
      ],
      "metadata": {
        "id": "X-B390FsTw0M"
      },
      "execution_count": 116,
      "outputs": []
    },
    {
      "cell_type": "markdown",
      "source": [
        "Ticket numbers along with TicketFreq, which counts how many times each ticket appears. This feature helps capture group or family connections among passengers since shared tickets may indicate travel companions, potentially influencing survival chances. Adding TicketFreq can improve the model by providing this social context."
      ],
      "metadata": {
        "id": "p89vM7ipjsvU"
      }
    },
    {
      "cell_type": "code",
      "source": [
        "print(data[['Ticket', 'TicketFreq']].head())\n"
      ],
      "metadata": {
        "colab": {
          "base_uri": "https://localhost:8080/"
        },
        "id": "mrkTisM7Y6_V",
        "outputId": "b0afe844-5015-414a-9f90-2a0849831b76"
      },
      "execution_count": 117,
      "outputs": [
        {
          "output_type": "stream",
          "name": "stdout",
          "text": [
            "             Ticket  TicketFreq\n",
            "0         A/5 21171           1\n",
            "1          PC 17599           2\n",
            "2  STON/O2. 3101282           1\n",
            "3            113803           2\n",
            "4            373450           1\n"
          ]
        }
      ]
    },
    {
      "cell_type": "code",
      "source": [
        "# 4.8 CabinDeck: Extract first letter of Cabin, fill missing with 'U'\n",
        "data['CabinDeck'] = data['Cabin'].str[0]\n",
        "data['CabinDeck'] = data['CabinDeck'].fillna('U')"
      ],
      "metadata": {
        "id": "B_kENrLrTyPk"
      },
      "execution_count": 118,
      "outputs": []
    },
    {
      "cell_type": "markdown",
      "source": [
        "his shows the distribution of the CabinDeck feature, which is the first letter of the cabin number:\n",
        "\n",
        "'U' means unknown/missing cabins (most common — 1014 passengers).\n",
        "\n",
        "Letters like A, B, C, D, E, F, G, T represent different decks on the ship.\n",
        "\n",
        "Why is this useful?\n",
        "Cabin location can indicate passenger class or survival likelihood.\n",
        "\n",
        "Grouping cabins by deck helps capture spatial info on the ship.\n",
        "\n",
        "Filling missing cabins as 'U' keeps those passengers in the dataset without losing info."
      ],
      "metadata": {
        "id": "XL91AoLzkP0f"
      }
    },
    {
      "cell_type": "code",
      "source": [
        "print(data['CabinDeck'].value_counts())\n"
      ],
      "metadata": {
        "colab": {
          "base_uri": "https://localhost:8080/"
        },
        "id": "9OMoWGBOY_4g",
        "outputId": "97a5a5a8-01c0-4d35-cfd8-49920467a128"
      },
      "execution_count": 119,
      "outputs": [
        {
          "output_type": "stream",
          "name": "stdout",
          "text": [
            "CabinDeck\n",
            "U    1014\n",
            "C      94\n",
            "B      65\n",
            "D      46\n",
            "E      41\n",
            "A      22\n",
            "F      21\n",
            "G       5\n",
            "T       1\n",
            "Name: count, dtype: int64\n"
          ]
        }
      ]
    },
    {
      "cell_type": "code",
      "source": [
        "'''\n",
        "Why these features?\n",
        "- Title, FamilySize, IsAlone, FarePerPerson, AgeBin, TicketFreq, CabinDeck capture useful info and interactions.\n",
        "- Helps models better separate classes based on social and family context, fare sharing, age groups, ticket commonality, and cabin location.\n",
        "'''\n",
        "\n",
        "# 5. Encode categorical variables with Label Encoding\n",
        "le = LabelEncoder()\n",
        "for col in ['Sex', 'Embarked', 'Title', 'CabinDeck']:\n",
        "    data[col] = le.fit_transform(data[col])"
      ],
      "metadata": {
        "id": "fCRThhKMT0Tc"
      },
      "execution_count": 120,
      "outputs": []
    },
    {
      "cell_type": "markdown",
      "source": [
        "This shows some categorical features after label encoding, where text categories are converted into numbers:\n",
        "\n",
        "Sex: Encoded as 0 or 1 (e.g., 0 = female, 1 = male).\n",
        "\n",
        "Embarked: Port of embarkation encoded as integers (e.g., 0 = Cherbourg, 1 = Queenstown, 2 = Southampton).\n",
        "\n",
        "Title: Passenger title (Mr, Mrs, Miss, Rare, etc.) encoded as numbers.\n",
        "\n",
        "CabinDeck: Ship deck letter encoded as numbers (e.g., ‘U’ = 8).\n",
        "\n",
        "Why encode?\n",
        "Machine learning models generally require numeric inputs, so label encoding turns categorical text data into numeric form, enabling the model to process these features."
      ],
      "metadata": {
        "id": "CWDmfLHDkYcU"
      }
    },
    {
      "cell_type": "code",
      "source": [
        "print(data[['Sex', 'Embarked', 'Title', 'CabinDeck']].head())\n"
      ],
      "metadata": {
        "colab": {
          "base_uri": "https://localhost:8080/"
        },
        "id": "xXziP7yFZKmR",
        "outputId": "bf749ae7-3344-411f-8dc3-6cdb30e03467"
      },
      "execution_count": 121,
      "outputs": [
        {
          "output_type": "stream",
          "name": "stdout",
          "text": [
            "   Sex  Embarked  Title  CabinDeck\n",
            "0    1         2      2          8\n",
            "1    0         0      3          2\n",
            "2    0         2      1          8\n",
            "3    0         2      3          2\n",
            "4    1         2      2          8\n"
          ]
        }
      ]
    },
    {
      "cell_type": "code",
      "source": [
        "# 6. Drop unused columns\n",
        "data.drop(columns=['PassengerId', 'Name', 'Ticket', 'Cabin'], inplace=True)"
      ],
      "metadata": {
        "id": "lvO_BXWWT12c"
      },
      "execution_count": 122,
      "outputs": []
    },
    {
      "cell_type": "code",
      "source": [
        "print(\"Remaining columns:\", data.columns.tolist())\n"
      ],
      "metadata": {
        "colab": {
          "base_uri": "https://localhost:8080/"
        },
        "id": "lMtxjkq3ZQg3",
        "outputId": "8a866f6e-8668-4b57-db52-c2a7834dbbe2"
      },
      "execution_count": 123,
      "outputs": [
        {
          "output_type": "stream",
          "name": "stdout",
          "text": [
            "Remaining columns: ['Survived', 'Pclass', 'Sex', 'Age', 'SibSp', 'Parch', 'Fare', 'Embarked', 'Title', 'FamilySize', 'IsAlone', 'FarePerPerson', 'AgeBin', 'TicketFreq', 'CabinDeck']\n"
          ]
        }
      ]
    },
    {
      "cell_type": "code",
      "source": [
        "# 7. Split data back into train and test sets\n",
        "train_processed = data[:len(train_df)]\n",
        "test_processed = data[len(train_df):]"
      ],
      "metadata": {
        "id": "QCWo-6bMT3oO"
      },
      "execution_count": 124,
      "outputs": []
    },
    {
      "cell_type": "code",
      "source": [
        "X_train = train_processed.drop('Survived', axis=1)\n",
        "y_train = train_processed['Survived']\n",
        "X_test = test_processed.drop('Survived', axis=1)"
      ],
      "metadata": {
        "id": "GrvIzVoIT6I2"
      },
      "execution_count": 125,
      "outputs": []
    },
    {
      "cell_type": "markdown",
      "source": [
        "This tells us about the shapes of the processed data ready for modeling:\n",
        "\n",
        "X_train shape (891, 14):\n",
        "Training features — 891 passengers, 14 input features each.\n",
        "\n",
        "y_train shape (891,):\n",
        "Training target — survival labels for each of the 891 passengers.\n",
        "\n",
        "X_test shape (418, 14):\n",
        "Test features — 418 passengers, same 14 features (but no target since you want to predict these).\n",
        "\n",
        "Why is this important?\n",
        "Ensures that your training and test data have consistent feature dimensions, so the model can train and then predict correctly on the test set."
      ],
      "metadata": {
        "id": "8dCjeqU-kgex"
      }
    },
    {
      "cell_type": "code",
      "source": [
        "print(\"X_train shape:\", X_train.shape)\n",
        "print(\"y_train shape:\", y_train.shape)\n",
        "print(\"X_test shape:\", X_test.shape)"
      ],
      "metadata": {
        "colab": {
          "base_uri": "https://localhost:8080/"
        },
        "id": "2FHwhoUVT7m0",
        "outputId": "bfb22a32-d46d-4d87-d84c-cd9054dead5b"
      },
      "execution_count": 126,
      "outputs": [
        {
          "output_type": "stream",
          "name": "stdout",
          "text": [
            "X_train shape: (891, 14)\n",
            "y_train shape: (891,)\n",
            "X_test shape: (418, 14)\n"
          ]
        }
      ]
    },
    {
      "cell_type": "markdown",
      "source": [
        "## Train-Test Split"
      ],
      "metadata": {
        "id": "mLXhET5TlHE8"
      }
    },
    {
      "cell_type": "markdown",
      "source": [
        "✅ What this does:\n",
        "Splits your training data (X_train, y_train) into:\n",
        "\n",
        "Training set (X_tr, y_tr) → 80% of the data.\n",
        "\n",
        "Validation set (X_val, y_val) → 20% of the data.\n",
        "\n",
        "📌 Why use it:\n",
        "To evaluate model performance before testing on the real test set.\n",
        "\n",
        "Helps detect overfitting: if the model does well on training but poorly on validation, it's overfitting.\n",
        "\n",
        "random_state=42 ensures reproducibility — same split every time you run the code."
      ],
      "metadata": {
        "id": "PFkHuh9elPS1"
      }
    },
    {
      "cell_type": "code",
      "source": [
        "X_tr, X_val, y_tr, y_val = train_test_split(X_train, y_train, test_size=0.2, random_state=42)\n"
      ],
      "metadata": {
        "id": "f8IuA8wmaGcz"
      },
      "execution_count": 128,
      "outputs": []
    },
    {
      "cell_type": "markdown",
      "source": [
        "## Model"
      ],
      "metadata": {
        "id": "aKdL1ErSlSya"
      }
    },
    {
      "cell_type": "markdown",
      "source": [
        "Models:\n",
        "Logistic Regression: A simple, fast baseline linear model.\n",
        "\n",
        "Random Forest: Ensemble of decision trees — good for handling nonlinear relationships.\n",
        "\n",
        "Gradient Boosting: Boosted trees, often more accurate but slower to train.\n",
        "\n",
        "Support Vector Machine (SVM): Effective in high-dimensional spaces; probability=True allows probability estimates"
      ],
      "metadata": {
        "id": "YLiDK0AylXYr"
      }
    },
    {
      "cell_type": "code",
      "source": [
        "models = {\n",
        "    \"Logistic Regression\": LogisticRegression(max_iter=1000),\n",
        "    \"Random Forest\": RandomForestClassifier(n_estimators=100, random_state=42),\n",
        "    \"Gradient Boosting\": GradientBoostingClassifier(n_estimators=100, random_state=42),\n",
        "    \"Support Vector Machine\": SVC(kernel='rbf', probability=True)\n",
        "}\n",
        "\n",
        "results = {}"
      ],
      "metadata": {
        "id": "AcfCWg1TaI1b"
      },
      "execution_count": 129,
      "outputs": []
    },
    {
      "cell_type": "markdown",
      "source": [
        "This block trains, evaluates, and compares all models defined in the models dictionary."
      ],
      "metadata": {
        "id": "L_8UFolnlfwn"
      }
    },
    {
      "cell_type": "code",
      "source": [
        "for name, model in models.items():\n",
        "    model.fit(X_tr, y_tr)\n",
        "    preds = model.predict(X_val)\n",
        "\n",
        "    acc = accuracy_score(y_val, preds)\n",
        "    f1 = f1_score(y_val, preds)\n",
        "    rmse = np.sqrt(mean_squared_error(y_val, preds))\n",
        "\n",
        "    results[name] = {\n",
        "        \"Accuracy\": acc,\n",
        "        \"F1 Score\": f1,\n",
        "        \"RMSE\": rmse,\n",
        "        \"Predictions\": preds\n",
        "    }\n",
        "\n",
        "    print(f\"\\n{name}\")\n",
        "    print(classification_report(y_val, preds))"
      ],
      "metadata": {
        "colab": {
          "base_uri": "https://localhost:8080/"
        },
        "id": "YLf-nW_naMkP",
        "outputId": "ecf46182-264a-4e16-b58a-c0b4760a489e"
      },
      "execution_count": 130,
      "outputs": [
        {
          "output_type": "stream",
          "name": "stdout",
          "text": [
            "\n",
            "Logistic Regression\n",
            "              precision    recall  f1-score   support\n",
            "\n",
            "         0.0       0.82      0.86      0.84       105\n",
            "         1.0       0.78      0.73      0.76        74\n",
            "\n",
            "    accuracy                           0.80       179\n",
            "   macro avg       0.80      0.79      0.80       179\n",
            "weighted avg       0.80      0.80      0.80       179\n",
            "\n",
            "\n",
            "Random Forest\n",
            "              precision    recall  f1-score   support\n",
            "\n",
            "         0.0       0.85      0.88      0.86       105\n",
            "         1.0       0.82      0.78      0.80        74\n",
            "\n",
            "    accuracy                           0.84       179\n",
            "   macro avg       0.83      0.83      0.83       179\n",
            "weighted avg       0.84      0.84      0.84       179\n",
            "\n",
            "\n",
            "Gradient Boosting\n",
            "              precision    recall  f1-score   support\n",
            "\n",
            "         0.0       0.87      0.87      0.87       105\n",
            "         1.0       0.81      0.81      0.81        74\n",
            "\n",
            "    accuracy                           0.84       179\n",
            "   macro avg       0.84      0.84      0.84       179\n",
            "weighted avg       0.84      0.84      0.84       179\n",
            "\n",
            "\n",
            "Support Vector Machine\n",
            "              precision    recall  f1-score   support\n",
            "\n",
            "         0.0       0.65      0.94      0.77       105\n",
            "         1.0       0.78      0.28      0.42        74\n",
            "\n",
            "    accuracy                           0.67       179\n",
            "   macro avg       0.71      0.61      0.59       179\n",
            "weighted avg       0.70      0.67      0.62       179\n",
            "\n"
          ]
        }
      ]
    },
    {
      "cell_type": "markdown",
      "source": [
        "##CatBoostClassifier\n",
        "\n",
        "Handles categorical features natively (no need for label/one-hot encoding).\n",
        "\n",
        "Performs well on tabular data.\n",
        "\n",
        "Reduces overfitting through ordered boosting.\n",
        "\n",
        "Requires minimal preprocessing.\n",
        "\n"
      ],
      "metadata": {
        "id": "49ZEHqfCl1MT"
      }
    },
    {
      "cell_type": "code",
      "source": [
        "from catboost import CatBoostClassifier\n",
        "from sklearn.metrics import classification_report, ConfusionMatrixDisplay\n",
        "import matplotlib.pyplot as plt\n",
        "\n",
        "# Identify categorical features by their column names or indices\n",
        "cat_features = ['Pclass', 'Sex', 'SibSp', 'Parch', 'Embarked']\n",
        "\n",
        "# Initialize CatBoostClassifier\n",
        "cat_model = CatBoostClassifier(\n",
        "    iterations=500,\n",
        "    learning_rate=0.1,\n",
        "    depth=6,\n",
        "    eval_metric='F1',\n",
        "    random_seed=42,\n",
        "    verbose=100\n",
        ")\n",
        "\n",
        "# Fit model (use eval_set to monitor validation if you have X_val/y_val)\n",
        "cat_model.fit(X_train, y_train, cat_features=cat_features)\n",
        "\n",
        "# Predict on validation set\n",
        "val_preds = cat_model.predict(X_val)\n",
        "\n",
        "# Classification report\n",
        "print(classification_report(y_val, val_preds))\n",
        "\n"
      ],
      "metadata": {
        "colab": {
          "base_uri": "https://localhost:8080/"
        },
        "id": "5-3ctPRub5-T",
        "outputId": "b97865b3-3a70-4a1e-b44d-481a0d55c17f"
      },
      "execution_count": 131,
      "outputs": [
        {
          "output_type": "stream",
          "name": "stdout",
          "text": [
            "0:\tlearn: 0.7696880\ttotal: 5.96ms\tremaining: 2.98s\n",
            "100:\tlearn: 0.8800000\ttotal: 500ms\tremaining: 1.97s\n",
            "200:\tlearn: 0.9335347\ttotal: 926ms\tremaining: 1.38s\n",
            "300:\tlearn: 0.9563910\ttotal: 1.6s\tremaining: 1.06s\n",
            "400:\tlearn: 0.9640719\ttotal: 2.23s\tremaining: 550ms\n",
            "499:\tlearn: 0.9687034\ttotal: 2.73s\tremaining: 0us\n",
            "              precision    recall  f1-score   support\n",
            "\n",
            "         0.0       0.96      0.97      0.97       105\n",
            "         1.0       0.96      0.95      0.95        74\n",
            "\n",
            "    accuracy                           0.96       179\n",
            "   macro avg       0.96      0.96      0.96       179\n",
            "weighted avg       0.96      0.96      0.96       179\n",
            "\n"
          ]
        }
      ]
    },
    {
      "cell_type": "markdown",
      "source": [
        "📌 Metrics Explained:\n",
        "Precision: Out of all predicted positives, how many were actually correct.\n",
        "\n",
        "Class 1: 96% of predicted positives were correct.\n",
        "\n",
        "Recall: Out of all actual positives, how many were correctly predicted.\n",
        "\n",
        "Class 1: 95% of actual positives were found.\n",
        "\n",
        "F1-score: Harmonic mean of precision and recall (balanced measure).\n",
        "\n",
        "Class 1: 0.95 → excellent!\n",
        "\n"
      ],
      "metadata": {
        "id": "NP4qGbN3fPxG"
      }
    },
    {
      "cell_type": "code",
      "source": [
        "# Confusion Matrix\n",
        "ConfusionMatrixDisplay.from_predictions(y_val, val_preds, cmap='Blues')\n",
        "plt.title(\"Confusion Matrix - CatBoost\")\n",
        "plt.show()\n"
      ],
      "metadata": {
        "colab": {
          "base_uri": "https://localhost:8080/",
          "height": 472
        },
        "id": "wSUiLo_WcLHX",
        "outputId": "ec0dd33f-33e3-4ec3-9d8f-419a37fbe22d"
      },
      "execution_count": 132,
      "outputs": [
        {
          "output_type": "display_data",
          "data": {
            "text/plain": [
              "<Figure size 640x480 with 2 Axes>"
            ],
            "image/png": "[encoded data removed]"
          },
          "metadata": {}
        }
      ]
    },
    {
      "cell_type": "markdown",
      "source": [
        "✅ Key Metrics\n",
        "True Positives (TP) = 70\n",
        "Model correctly predicted class 1.\n",
        "\n",
        "True Negatives (TN) = 102\n",
        "Model correctly predicted class 0.\n",
        "\n",
        "False Positives (FP) = 3\n",
        "Model incorrectly predicted class 1 for actual class 0.\n",
        "\n",
        "False Negatives (FN) = 4\n",
        "Model incorrectly predicted class 0 for actual class 1."
      ],
      "metadata": {
        "id": "14xOipUNe16-"
      }
    },
    {
      "cell_type": "code",
      "source": [
        "final_test_preds = cat_model.predict(X_test)\n"
      ],
      "metadata": {
        "id": "Q9jH02GWdVhR"
      },
      "execution_count": 133,
      "outputs": []
    },
    {
      "cell_type": "code",
      "source": [
        "import pandas as pd\n",
        "\n",
        "submission = pd.DataFrame({\n",
        "    \"PassengerId\": test_df[\"PassengerId\"],\n",
        "    \"Survived\": final_test_preds.astype(int)  # Make sure predictions are integer 0/1\n",
        "})\n",
        "\n",
        "submission.to_csv(\"titanic_catboost_submission.csv\", index=False)\n",
        "print(\"Submission file created: titanic_catboost_submission.csv\")\n"
      ],
      "metadata": {
        "colab": {
          "base_uri": "https://localhost:8080/"
        },
        "id": "zn29kLcrdZWD",
        "outputId": "fdeb0a40-fb4c-4b33-d7cf-71676800446b"
      },
      "execution_count": 134,
      "outputs": [
        {
          "output_type": "stream",
          "name": "stdout",
          "text": [
            "Submission file created: titanic_catboost_submission.csv\n"
          ]
        }
      ]
    },
    {
      "cell_type": "code",
      "source": [
        "!pip install optuna"
      ],
      "metadata": {
        "colab": {
          "base_uri": "https://localhost:8080/"
        },
        "id": "BEZCzob4ea8v",
        "outputId": "01dbf9ad-4ddc-4e4e-b8ee-d8bc51e1fd25"
      },
      "execution_count": 136,
      "outputs": [
        {
          "output_type": "stream",
          "name": "stdout",
          "text": [
            "Collecting optuna\n",
            "  Downloading optuna-4.3.0-py3-none-any.whl.metadata (17 kB)\n",
            "Collecting alembic>=1.5.0 (from optuna)\n",
            "  Downloading alembic-1.16.1-py3-none-any.whl.metadata (7.3 kB)\n",
            "Collecting colorlog (from optuna)\n",
            "  Downloading colorlog-6.9.0-py3-none-any.whl.metadata (10 kB)\n",
            "Requirement already satisfied: numpy in /usr/local/lib/python3.11/dist-packages (from optuna) (2.0.2)\n",
            "Requirement already satisfied: packaging>=20.0 in /usr/local/lib/python3.11/dist-packages (from optuna) (24.2)\n",
            "Requirement already satisfied: sqlalchemy>=1.4.2 in /usr/local/lib/python3.11/dist-packages (from optuna) (2.0.41)\n",
            "Requirement already satisfied: tqdm in /usr/local/lib/python3.11/dist-packages (from optuna) (4.67.1)\n",
            "Requirement already satisfied: PyYAML in /usr/local/lib/python3.11/dist-packages (from optuna) (6.0.2)\n",
            "Requirement already satisfied: Mako in /usr/lib/python3/dist-packages (from alembic>=1.5.0->optuna) (1.1.3)\n",
            "Requirement already satisfied: typing-extensions>=4.12 in /usr/local/lib/python3.11/dist-packages (from alembic>=1.5.0->optuna) (4.13.2)\n",
            "Requirement already satisfied: greenlet>=1 in /usr/local/lib/python3.11/dist-packages (from sqlalchemy>=1.4.2->optuna) (3.2.2)\n",
            "Downloading optuna-4.3.0-py3-none-any.whl (386 kB)\n",
            "\u001b[2K   \u001b[90m━━━━━━━━━━━━━━━━━━━━━━━━━━━━━━━━━━━━━━━━\u001b[0m \u001b[32m386.6/386.6 kB\u001b[0m \u001b[31m5.8 MB/s\u001b[0m eta \u001b[36m0:00:00\u001b[0m\n",
            "\u001b[?25hDownloading alembic-1.16.1-py3-none-any.whl (242 kB)\n",
            "\u001b[2K   \u001b[90m━━━━━━━━━━━━━━━━━━━━━━━━━━━━━━━━━━━━━━━━\u001b[0m \u001b[32m242.5/242.5 kB\u001b[0m \u001b[31m19.3 MB/s\u001b[0m eta \u001b[36m0:00:00\u001b[0m\n",
            "\u001b[?25hDownloading colorlog-6.9.0-py3-none-any.whl (11 kB)\n",
            "Installing collected packages: colorlog, alembic, optuna\n",
            "Successfully installed alembic-1.16.1 colorlog-6.9.0 optuna-4.3.0\n"
          ]
        }
      ]
    },
    {
      "cell_type": "markdown",
      "source": [
        "Optuna + CatBoost code hyperparameter tuning"
      ],
      "metadata": {
        "id": "HanXv-0AmRLT"
      }
    },
    {
      "cell_type": "code",
      "source": [
        "import optuna\n",
        "from catboost import CatBoostClassifier\n",
        "from sklearn.model_selection import train_test_split\n",
        "from sklearn.metrics import f1_score\n",
        "\n",
        "def objective(trial):\n",
        "    params = {\n",
        "        'iterations': 500,\n",
        "        'depth': trial.suggest_int('depth', 4, 10),\n",
        "        'learning_rate': trial.suggest_float('learning_rate', 0.01, 0.3),\n",
        "        'l2_leaf_reg': trial.suggest_float('l2_leaf_reg', 1, 10),\n",
        "        'random_seed': 42,\n",
        "        'verbose': False,\n",
        "    }\n",
        "\n",
        "    model = CatBoostClassifier(**params, cat_features=cat_features)\n",
        "    X_tr, X_val, y_tr, y_val = train_test_split(X_train, y_train, test_size=0.2, random_state=42)\n",
        "\n",
        "    model.fit(X_tr, y_tr)\n",
        "    preds = model.predict(X_val)\n",
        "    return f1_score(y_val, preds)\n",
        "\n",
        "study = optuna.create_study(direction='maximize')\n",
        "study.optimize(objective, n_trials=30)\n",
        "\n",
        "print(\"Best params:\", study.best_params)\n",
        "print(\"Best F1 score:\", study.best_value)\n"
      ],
      "metadata": {
        "colab": {
          "base_uri": "https://localhost:8080/"
        },
        "id": "sh_tYjLEddx4",
        "outputId": "9845e620-4bff-479b-f800-f36c65bdd3dc"
      },
      "execution_count": 137,
      "outputs": [
        {
          "output_type": "stream",
          "name": "stderr",
          "text": [
            "[I 2025-06-05 14:23:55,793] A new study created in memory with name: no-name-92fd33c2-0a49-4d88-86e2-04795ac8664a\n",
            "[I 2025-06-05 14:24:00,241] Trial 0 finished with value: 0.8055555555555556 and parameters: {'depth': 5, 'learning_rate': 0.0489234925341741, 'l2_leaf_reg': 4.962648914246793}. Best is trial 0 with value: 0.8055555555555556.\n",
            "[I 2025-06-05 14:24:04,094] Trial 1 finished with value: 0.7391304347826086 and parameters: {'depth': 4, 'learning_rate': 0.22107838620402204, 'l2_leaf_reg': 1.6718590870314123}. Best is trial 0 with value: 0.8055555555555556.\n",
            "[I 2025-06-05 14:24:33,381] Trial 2 finished with value: 0.7391304347826086 and parameters: {'depth': 10, 'learning_rate': 0.14191423753536073, 'l2_leaf_reg': 6.02196430664849}. Best is trial 0 with value: 0.8055555555555556.\n",
            "[I 2025-06-05 14:24:49,420] Trial 3 finished with value: 0.7391304347826086 and parameters: {'depth': 9, 'learning_rate': 0.05865918559091414, 'l2_leaf_reg': 2.5149271163323217}. Best is trial 0 with value: 0.8055555555555556.\n",
            "[I 2025-06-05 14:24:53,973] Trial 4 finished with value: 0.7352941176470589 and parameters: {'depth': 6, 'learning_rate': 0.2873897921199218, 'l2_leaf_reg': 4.886323157325965}. Best is trial 0 with value: 0.8055555555555556.\n",
            "[I 2025-06-05 14:25:01,624] Trial 5 finished with value: 0.7205882352941176 and parameters: {'depth': 9, 'learning_rate': 0.11117226442251404, 'l2_leaf_reg': 6.076207370597926}. Best is trial 0 with value: 0.8055555555555556.\n",
            "[I 2025-06-05 14:25:03,685] Trial 6 finished with value: 0.8137931034482758 and parameters: {'depth': 4, 'learning_rate': 0.09388675303410739, 'l2_leaf_reg': 7.74318546612032}. Best is trial 6 with value: 0.8137931034482758.\n",
            "[I 2025-06-05 14:25:05,013] Trial 7 finished with value: 0.7887323943661971 and parameters: {'depth': 4, 'learning_rate': 0.018262023109985544, 'l2_leaf_reg': 6.100854240306623}. Best is trial 6 with value: 0.8137931034482758.\n",
            "[I 2025-06-05 14:25:06,422] Trial 8 finished with value: 0.7769784172661871 and parameters: {'depth': 4, 'learning_rate': 0.21799824447078125, 'l2_leaf_reg': 2.712071358874701}. Best is trial 6 with value: 0.8137931034482758.\n",
            "[I 2025-06-05 14:25:10,912] Trial 9 finished with value: 0.7352941176470589 and parameters: {'depth': 8, 'learning_rate': 0.18255460626457895, 'l2_leaf_reg': 9.116524777927914}. Best is trial 6 with value: 0.8137931034482758.\n",
            "[I 2025-06-05 14:25:15,270] Trial 10 finished with value: 0.7536231884057971 and parameters: {'depth': 7, 'learning_rate': 0.09471777786608773, 'l2_leaf_reg': 9.935110235484903}. Best is trial 6 with value: 0.8137931034482758.\n",
            "[I 2025-06-05 14:25:18,564] Trial 11 finished with value: 0.7832167832167832 and parameters: {'depth': 6, 'learning_rate': 0.015341864240964544, 'l2_leaf_reg': 7.963052284939147}. Best is trial 6 with value: 0.8137931034482758.\n",
            "[I 2025-06-05 14:25:24,245] Trial 12 finished with value: 0.7913669064748201 and parameters: {'depth': 5, 'learning_rate': 0.06961978383510094, 'l2_leaf_reg': 4.512933495186028}. Best is trial 6 with value: 0.8137931034482758.\n",
            "[I 2025-06-05 14:25:30,859] Trial 13 finished with value: 0.7887323943661971 and parameters: {'depth': 5, 'learning_rate': 0.060629443918650903, 'l2_leaf_reg': 8.019585194857969}. Best is trial 6 with value: 0.8137931034482758.\n",
            "[I 2025-06-05 14:25:34,233] Trial 14 finished with value: 0.7801418439716312 and parameters: {'depth': 5, 'learning_rate': 0.13629544050222178, 'l2_leaf_reg': 7.227768006270693}. Best is trial 6 with value: 0.8137931034482758.\n",
            "[I 2025-06-05 14:25:36,654] Trial 15 finished with value: 0.7916666666666666 and parameters: {'depth': 6, 'learning_rate': 0.09239005980288868, 'l2_leaf_reg': 4.742983659335787}. Best is trial 6 with value: 0.8137931034482758.\n",
            "[I 2025-06-05 14:25:40,471] Trial 16 finished with value: 0.8 and parameters: {'depth': 7, 'learning_rate': 0.03395870537692811, 'l2_leaf_reg': 3.382551520143061}. Best is trial 6 with value: 0.8137931034482758.\n",
            "[I 2025-06-05 14:25:42,739] Trial 17 finished with value: 0.7445255474452555 and parameters: {'depth': 5, 'learning_rate': 0.184689076154526, 'l2_leaf_reg': 7.048549279965932}. Best is trial 6 with value: 0.8137931034482758.\n",
            "[I 2025-06-05 14:25:44,126] Trial 18 finished with value: 0.8085106382978723 and parameters: {'depth': 4, 'learning_rate': 0.11421180883662735, 'l2_leaf_reg': 3.9964249193624273}. Best is trial 6 with value: 0.8137931034482758.\n",
            "[I 2025-06-05 14:25:45,564] Trial 19 finished with value: 0.8111888111888111 and parameters: {'depth': 4, 'learning_rate': 0.1137761215170008, 'l2_leaf_reg': 3.98828671710949}. Best is trial 6 with value: 0.8137931034482758.\n",
            "[I 2025-06-05 14:25:48,542] Trial 20 finished with value: 0.7407407407407407 and parameters: {'depth': 7, 'learning_rate': 0.16790145200735848, 'l2_leaf_reg': 8.513124267481068}. Best is trial 6 with value: 0.8137931034482758.\n",
            "[I 2025-06-05 14:25:49,909] Trial 21 finished with value: 0.8085106382978723 and parameters: {'depth': 4, 'learning_rate': 0.12225647130099261, 'l2_leaf_reg': 3.6879514990730637}. Best is trial 6 with value: 0.8137931034482758.\n",
            "[I 2025-06-05 14:25:51,264] Trial 22 finished with value: 0.8055555555555556 and parameters: {'depth': 4, 'learning_rate': 0.0841738084854699, 'l2_leaf_reg': 3.7431095264316063}. Best is trial 6 with value: 0.8137931034482758.\n",
            "[I 2025-06-05 14:25:54,233] Trial 23 finished with value: 0.8 and parameters: {'depth': 4, 'learning_rate': 0.10669967583446817, 'l2_leaf_reg': 1.0216412060355777}. Best is trial 6 with value: 0.8137931034482758.\n",
            "[I 2025-06-05 14:25:56,454] Trial 24 finished with value: 0.7638888888888888 and parameters: {'depth': 6, 'learning_rate': 0.14017091314251906, 'l2_leaf_reg': 4.138808061626844}. Best is trial 6 with value: 0.8137931034482758.\n",
            "[I 2025-06-05 14:25:58,172] Trial 25 finished with value: 0.7571428571428571 and parameters: {'depth': 5, 'learning_rate': 0.12059395333556946, 'l2_leaf_reg': 3.0953599551226123}. Best is trial 6 with value: 0.8137931034482758.\n",
            "[I 2025-06-05 14:25:59,540] Trial 26 finished with value: 0.7972027972027972 and parameters: {'depth': 4, 'learning_rate': 0.08047726217002248, 'l2_leaf_reg': 5.501803363303889}. Best is trial 6 with value: 0.8137931034482758.\n",
            "[I 2025-06-05 14:26:01,248] Trial 27 finished with value: 0.7887323943661971 and parameters: {'depth': 5, 'learning_rate': 0.15819597566840665, 'l2_leaf_reg': 6.768721462172962}. Best is trial 6 with value: 0.8137931034482758.\n",
            "[I 2025-06-05 14:26:02,661] Trial 28 finished with value: 0.7943262411347518 and parameters: {'depth': 4, 'learning_rate': 0.2072346160934253, 'l2_leaf_reg': 5.57752052844914}. Best is trial 6 with value: 0.8137931034482758.\n",
            "[I 2025-06-05 14:26:04,426] Trial 29 finished with value: 0.7943262411347518 and parameters: {'depth': 5, 'learning_rate': 0.04267612452528556, 'l2_leaf_reg': 4.054944584162091}. Best is trial 6 with value: 0.8137931034482758.\n"
          ]
        },
        {
          "output_type": "stream",
          "name": "stdout",
          "text": [
            "Best params: {'depth': 4, 'learning_rate': 0.09388675303410739, 'l2_leaf_reg': 7.74318546612032}\n",
            "Best F1 score: 0.8137931034482758\n"
          ]
        }
      ]
    },
    {
      "cell_type": "code",
      "source": [
        "best_params = study.best_params\n",
        "best_params.update({'iterations': 500, 'random_seed': 42, 'verbose': 100})\n",
        "\n",
        "final_cat_model = CatBoostClassifier(**best_params, cat_features=cat_features)\n",
        "final_cat_model.fit(X_train, y_train)\n"
      ],
      "metadata": {
        "colab": {
          "base_uri": "https://localhost:8080/"
        },
        "id": "TqOIwP1OdlYe",
        "outputId": "85a05b4b-9a76-4932-97bc-c73d7f9234eb"
      },
      "execution_count": 138,
      "outputs": [
        {
          "output_type": "stream",
          "name": "stdout",
          "text": [
            "0:\tlearn: 0.6487233\ttotal: 3.64ms\tremaining: 1.81s\n",
            "100:\tlearn: 0.3374639\ttotal: 285ms\tremaining: 1.13s\n",
            "200:\tlearn: 0.2944445\ttotal: 554ms\tremaining: 823ms\n",
            "300:\tlearn: 0.2620805\ttotal: 831ms\tremaining: 549ms\n",
            "400:\tlearn: 0.2380426\ttotal: 1.13s\tremaining: 278ms\n",
            "499:\tlearn: 0.2168854\ttotal: 1.4s\tremaining: 0us\n"
          ]
        },
        {
          "output_type": "execute_result",
          "data": {
            "text/plain": [
              "<catboost.core.CatBoostClassifier at 0x78864e9fe3d0>"
            ]
          },
          "metadata": {},
          "execution_count": 138
        }
      ]
    },
    {
      "cell_type": "code",
      "source": [
        "import seaborn as sns\n",
        "import matplotlib.pyplot as plt\n",
        "\n",
        "feat_importances = final_cat_model.get_feature_importance(prettified=True)\n",
        "feat_importances.columns = ['Feature', 'Importance']\n",
        "\n",
        "plt.figure(figsize=(10,6))\n",
        "sns.barplot(x='Importance', y='Feature', data=feat_importances)\n",
        "plt.title(\"CatBoost Feature Importance\")\n",
        "plt.show()\n"
      ],
      "metadata": {
        "colab": {
          "base_uri": "https://localhost:8080/",
          "height": 564
        },
        "id": "v8J95hMQdoun",
        "outputId": "081525cb-3afc-4b66-c823-f0d9a31c8c07"
      },
      "execution_count": 139,
      "outputs": [
        {
          "output_type": "display_data",
          "data": {
            "text/plain": [
              "<Figure size 1000x600 with 1 Axes>"
            ],
            "image/png": "[encoded data removed]"
          },
          "metadata": {}
        }
      ]
    },
    {
      "cell_type": "code",
      "source": [
        "import shap\n",
        "\n",
        "# Create object that can calculate shap values\n",
        "explainer = shap.TreeExplainer(final_cat_model)\n",
        "shap_values = explainer.shap_values(X_train)\n",
        "\n",
        "# Summary plot\n",
        "shap.summary_plot(shap_values, X_train)\n"
      ],
      "metadata": {
        "colab": {
          "base_uri": "https://localhost:8080/",
          "height": 717
        },
        "id": "VByH1e2mdtND",
        "outputId": "9dc4b4a5-ba5b-4eb9-99f7-96292d26f680"
      },
      "execution_count": 140,
      "outputs": [
        {
          "output_type": "display_data",
          "data": {
            "text/plain": [
              "<Figure size 800x710 with 2 Axes>"
            ],
            "image/png": "[encoded data removed]"
          },
          "metadata": {}
        }
      ]
    },
    {
      "cell_type": "code",
      "source": [
        "from sklearn.metrics import roc_curve, roc_auc_score\n",
        "import matplotlib.pyplot as plt\n",
        "\n",
        "# Get predicted probabilities for the positive class (Survived = 1)\n",
        "y_probs = final_cat_model.predict_proba(X_val)[:, 1]\n",
        "\n",
        "# Calculate ROC curve points\n",
        "fpr, tpr, thresholds = roc_curve(y_val, y_probs)\n",
        "\n",
        "# Calculate AUC score\n",
        "auc_score = roc_auc_score(y_val, y_probs)\n",
        "print(f\"AUC Score: {auc_score:.4f}\")\n",
        "\n",
        "# Plot ROC curve\n",
        "plt.figure(figsize=(8,6))\n",
        "plt.plot(fpr, tpr, label=f\"CatBoost (AUC = {auc_score:.4f})\", color='darkorange', lw=2)\n",
        "plt.plot([0,1], [0,1], 'k--', lw=2)  # Diagonal line for random classifier\n",
        "plt.xlim([0.0, 1.0])\n",
        "plt.ylim([0.0, 1.05])\n",
        "plt.xlabel(\"False Positive Rate\")\n",
        "plt.ylabel(\"True Positive Rate\")\n",
        "plt.title(\"ROC Curve - CatBoost\")\n",
        "plt.legend(loc=\"lower right\")\n",
        "plt.grid(alpha=0.3)\n",
        "plt.show()\n"
      ],
      "metadata": {
        "colab": {
          "base_uri": "https://localhost:8080/",
          "height": 581
        },
        "id": "G-VSAwUofb3w",
        "outputId": "9c2cc7ff-df56-462a-f520-216fdeb1074e"
      },
      "execution_count": 141,
      "outputs": [
        {
          "output_type": "stream",
          "name": "stdout",
          "text": [
            "AUC Score: 0.9671\n"
          ]
        },
        {
          "output_type": "display_data",
          "data": {
            "text/plain": [
              "<Figure size 800x600 with 1 Axes>"
            ],
            "image/png": "[encoded data removed]"
          },
          "metadata": {}
        }
      ]
    },
    {
      "cell_type": "markdown",
      "source": [
        "📈 ROC Curve – CatBoost\n",
        "The ROC (Receiver Operating Characteristic) curve visualizes the performance of the CatBoost model across different classification thresholds.\n",
        "\n",
        "The curve is plotted between True Positive Rate (Sensitivity) and False Positive Rate (1 - Specificity).\n",
        "\n",
        "The orange line represents the CatBoost model's performance.\n",
        "\n",
        "The closer the curve is to the top-left corner, the better the model’s ability to distinguish between classes.\n",
        "\n",
        "The diagonal dashed line represents random guessing (AUC = 0.5).\n",
        "\n",
        "🔥 AUC Score: 0.9671\n",
        "The Area Under the Curve (AUC) is 0.9671, which is excellent.\n",
        "\n",
        "This means there's a 96.71% chance that the model will correctly distinguish between a positive and a negative class.\n",
        "\n",
        "✅ Conclusion:\n",
        "The high AUC confirms that CatBoost is not only accurate but also very effective at ranking predictions, making it a robust and reliable classifier for this task."
      ],
      "metadata": {
        "id": "WFZk-6YZgrih"
      }
    },
    {
      "cell_type": "markdown",
      "source": [
        "# 📊 **Insights by Model**\n",
        "### ✅ **CatBoost (Best Performance)**\n",
        "CatBoost gave the highest scores across all metrics.\n",
        "It is very well balanced in terms of precision and recall.\n",
        "This model is ideal for deployment when accuracy is a top priority.\n",
        "\n",
        "###🌲 **Random Forest & Gradient Boosting**\n",
        "Both models performed equally well and better than Logistic Regression.\n",
        "They maintained a good balance between precision and recall.\n",
        "These models can be preferred when interpretability or speed is more important than maximum accuracy.\n",
        "\n",
        "###📉 **Logistic Regression**\n",
        "This model provided decent results and serves well as a baseline.\n",
        "However, its performance was lower compared to the ensemble models.\n",
        "Still, it’s suitable for simpler or highly interpretable use cases.\n",
        "\n",
        "###⚠️ **Support Vector Machine (SVM)**\n",
        "Although SVM showed high precision for class 1 (0.78), it had very low recall (0.28), meaning it failed to capture many actual positives.\n",
        "It’s biased toward class 0 and not suitable for imbalanced or real-world scenarios where identifying positives correctly is critical.\n",
        "\n",
        "##📌 **Recommendation**\n",
        "Based on the results, CatBoost is the best choice if I want to optimize for overall accuracy, precision, recall, and F1-score.\n",
        "If I need a simpler or faster model with good performance, I would go with Random Forest or Gradient Boosting.\n",
        "SVM is not recommended for this dataset unless improved with techniques like hyperparameter tuning, feature engineering, or applying SMOTE for class balancing."
      ],
      "metadata": {
        "id": "PSdnrx-5gE3P"
      }
    },
    {
      "cell_type": "code",
      "source": [],
      "metadata": {
        "id": "vkd9HwbigmJQ"
      },
      "execution_count": null,
      "outputs": []
    }
  ]
}